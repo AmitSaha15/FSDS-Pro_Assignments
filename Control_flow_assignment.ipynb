{
  "nbformat": 4,
  "nbformat_minor": 0,
  "metadata": {
    "colab": {
      "provenance": [],
      "authorship_tag": "ABX9TyMjLZlDttB8fnYAoiG4RnmJ",
      "include_colab_link": true
    },
    "kernelspec": {
      "name": "python3",
      "display_name": "Python 3"
    },
    "language_info": {
      "name": "python"
    }
  },
  "cells": [
    {
      "cell_type": "markdown",
      "metadata": {
        "id": "view-in-github",
        "colab_type": "text"
      },
      "source": [
        "<a href=\"https://colab.research.google.com/github/AmitSaha15/FSDS-Pro_Assignments/blob/main/Control_flow_assignment.ipynb\" target=\"_parent\"><img src=\"https://colab.research.google.com/assets/colab-badge.svg\" alt=\"Open In Colab\"/></a>"
      ]
    },
    {
      "cell_type": "markdown",
      "source": [
        "# **Basic If-Else Statements:**"
      ],
      "metadata": {
        "id": "ifx8TezLfM-3"
      }
    },
    {
      "cell_type": "markdown",
      "source": [
        "1. Write a Python program to check if a given number is positive or negative."
      ],
      "metadata": {
        "id": "ud6gbHQ2feHz"
      }
    },
    {
      "cell_type": "code",
      "execution_count": null,
      "metadata": {
        "id": "89xc-YriU4pn",
        "colab": {
          "base_uri": "https://localhost:8080/"
        },
        "outputId": "f4fe6be5-5f30-42b7-8b4e-c0764fcaca76"
      },
      "outputs": [
        {
          "output_type": "stream",
          "name": "stdout",
          "text": [
            "Enter any number: -4\n",
            "Negative number.\n"
          ]
        }
      ],
      "source": [
        "n = int(input(\"Enter any number: \"))\n",
        "if n<0:\n",
        "  print(\"Negative number.\")\n",
        "else:\n",
        "  print(\"Positive number.\")"
      ]
    },
    {
      "cell_type": "markdown",
      "source": [
        "2. Create a program that determines if a person is eligible to vote based on their age."
      ],
      "metadata": {
        "id": "ICY2_7qvgEPq"
      }
    },
    {
      "cell_type": "code",
      "source": [
        "age = int(input(\"Enter your age: \"))\n",
        "if age >= 18:\n",
        "  print(\"You are eligible to vote.\")\n",
        "else:\n",
        "  print(\"You are not eligible to vote.\")"
      ],
      "metadata": {
        "colab": {
          "base_uri": "https://localhost:8080/"
        },
        "id": "9SFhHZRVf3jC",
        "outputId": "90db0f19-18b2-4615-b568-8b729124abd0"
      },
      "execution_count": null,
      "outputs": [
        {
          "output_type": "stream",
          "name": "stdout",
          "text": [
            "Enter your age: 17\n",
            "You are not eligible to vote.\n"
          ]
        }
      ]
    },
    {
      "cell_type": "markdown",
      "source": [
        "3. Develop a program to find the maximum of two numbers using if-else statements."
      ],
      "metadata": {
        "id": "Wja3kWwIgm3t"
      }
    },
    {
      "cell_type": "code",
      "source": [
        "def max_of_two_nums(num1,num2):\n",
        "  if num1 > num2:\n",
        "    print(f\"{num1} is greater than {num2}.\")\n",
        "  else:\n",
        "    print(f\"{num2} is greater than {num1}.\")\n",
        "\n",
        "max_of_two_nums(499,256)"
      ],
      "metadata": {
        "colab": {
          "base_uri": "https://localhost:8080/"
        },
        "id": "qP3BWN0bgdwZ",
        "outputId": "aac7cdd3-b5c9-4b8e-adf6-87f31f561a39"
      },
      "execution_count": null,
      "outputs": [
        {
          "output_type": "stream",
          "name": "stdout",
          "text": [
            "499 is greater than 256.\n"
          ]
        }
      ]
    },
    {
      "cell_type": "markdown",
      "source": [
        "4. Write a Python script to classify a given year as a leap year or not."
      ],
      "metadata": {
        "id": "C_Jc3lvqiKVo"
      }
    },
    {
      "cell_type": "code",
      "source": [
        "year = int(input(\"Which year do you want to check? \"))\n",
        "true = \"This is a Leap year!\"\n",
        "false = \"This is not a Leap year!\"\n",
        "if year % 4 == 0:\n",
        "    if year % 100 ==0:\n",
        "        if year % 400 == 0:\n",
        "            print(true)\n",
        "        else:\n",
        "            print(false)\n",
        "    else:\n",
        "        print(true)\n",
        "else:\n",
        "    print(false)"
      ],
      "metadata": {
        "colab": {
          "base_uri": "https://localhost:8080/"
        },
        "id": "KlzNs1V5iCmg",
        "outputId": "3f3c4434-7080-47f9-b148-637bb5119079"
      },
      "execution_count": null,
      "outputs": [
        {
          "output_type": "stream",
          "name": "stdout",
          "text": [
            "Which year do you want to check? 1900\n",
            "This is not a Leap year!\n"
          ]
        }
      ]
    },
    {
      "cell_type": "markdown",
      "source": [
        "5. Create a program that checks whether a character is a vowel or a consonant."
      ],
      "metadata": {
        "id": "aFOv39Opi_Hi"
      }
    },
    {
      "cell_type": "code",
      "source": [
        "char = input(\"Enter a character: \")\n",
        "vowels = set(\"aeiouAEIOU\")\n",
        "if char in vowels:\n",
        "  print(\"It is a vowel.\")\n",
        "else:\n",
        "  print(\"It is a consonant.\")"
      ],
      "metadata": {
        "colab": {
          "base_uri": "https://localhost:8080/"
        },
        "id": "f2LpILLMi0SP",
        "outputId": "f6a93639-0783-4cb2-a4d5-f2e044d33781"
      },
      "execution_count": null,
      "outputs": [
        {
          "output_type": "stream",
          "name": "stdout",
          "text": [
            "Enter a character: m\n",
            "It is a consonant.\n"
          ]
        }
      ]
    },
    {
      "cell_type": "markdown",
      "source": [
        "6. Implement a program to determine whether a given number is even or odd."
      ],
      "metadata": {
        "id": "sVuxLQcOkraM"
      }
    },
    {
      "cell_type": "code",
      "source": [
        "def odd_or_even(num):\n",
        "  if num % 2 == 0:\n",
        "    print(\"Even number.\")\n",
        "  else:\n",
        "    print(\"Odd number.\")\n",
        "\n",
        "given_num = 2001\n",
        "odd_or_even(given_num)"
      ],
      "metadata": {
        "colab": {
          "base_uri": "https://localhost:8080/"
        },
        "id": "EWBugXqzki2D",
        "outputId": "f2bc346d-f2b9-4e54-d92a-e50a9ac630c2"
      },
      "execution_count": null,
      "outputs": [
        {
          "output_type": "stream",
          "name": "stdout",
          "text": [
            "Odd number.\n"
          ]
        }
      ]
    },
    {
      "cell_type": "markdown",
      "source": [
        "7. Write a Python function to calculate the absolute value of a number without using the `abs()` function."
      ],
      "metadata": {
        "id": "RFEtM4HCln3t"
      }
    },
    {
      "cell_type": "code",
      "source": [
        "def calculate_absolute_value(number):\n",
        "    if number < 0:\n",
        "        return -number\n",
        "    else:\n",
        "        return number\n",
        "\n",
        "num = -5\n",
        "absolute_num = calculate_absolute_value(num)\n",
        "print(f\"The absolute value of {num} is {absolute_num}\")"
      ],
      "metadata": {
        "colab": {
          "base_uri": "https://localhost:8080/"
        },
        "id": "nhjRWy1DlOCw",
        "outputId": "a4a49446-7c4a-49d0-9770-910d925888ec"
      },
      "execution_count": null,
      "outputs": [
        {
          "output_type": "stream",
          "name": "stdout",
          "text": [
            "The absolute value of -5 is 5\n"
          ]
        }
      ]
    },
    {
      "cell_type": "markdown",
      "source": [
        "8. Develop a program that determines the largest of three given numbers using if-else statements."
      ],
      "metadata": {
        "id": "twMEhbEZmMto"
      }
    },
    {
      "cell_type": "code",
      "source": [
        "num1 = float(input(\"Enter the first number: \"))\n",
        "num2 = float(input(\"Enter the second number: \"))\n",
        "num3 = float(input(\"Enter the third number: \"))\n",
        "\n",
        "if num1 >= num2 and num1 >= num3:\n",
        "    largest = num1\n",
        "elif num2 >= num1 and num2 >= num3:\n",
        "    largest = num2\n",
        "else:\n",
        "    largest = num3\n",
        "\n",
        "print(\"The largest number is:\", largest)"
      ],
      "metadata": {
        "colab": {
          "base_uri": "https://localhost:8080/"
        },
        "id": "uBMlEfLOmGvE",
        "outputId": "d149983b-c7ef-4581-eeba-527cc4862c0e"
      },
      "execution_count": null,
      "outputs": [
        {
          "output_type": "stream",
          "name": "stdout",
          "text": [
            "Enter the first number: 784\n",
            "Enter the second number: 555\n",
            "Enter the third number: 1067\n",
            "The largest number is: 1067.0\n"
          ]
        }
      ]
    },
    {
      "cell_type": "markdown",
      "source": [
        "9. Create a program that checks if a given string is a palindrome."
      ],
      "metadata": {
        "id": "hD9ABCsSmu6n"
      }
    },
    {
      "cell_type": "code",
      "source": [
        "s = input(\"Enter a string: \")\n",
        "temp_string = s[::-1]\n",
        "if(temp_string == s):\n",
        "    print(\"Yes the string is palindrome.\")\n",
        "else:\n",
        "    print(\"No the string is not palindrome.\")"
      ],
      "metadata": {
        "colab": {
          "base_uri": "https://localhost:8080/"
        },
        "id": "eVA3T2f_mlos",
        "outputId": "60f979b6-1968-4554-810d-7c67bc8bb74b"
      },
      "execution_count": null,
      "outputs": [
        {
          "output_type": "stream",
          "name": "stdout",
          "text": [
            "Enter a string: madam\n",
            "Yes the string is palindrome.\n"
          ]
        }
      ]
    },
    {
      "cell_type": "markdown",
      "source": [
        "10. Write a Python program to calculate the grade based on a student's score."
      ],
      "metadata": {
        "id": "SY4Ny9_EnjbQ"
      }
    },
    {
      "cell_type": "code",
      "source": [
        "score = float(input(\"Enter the student's score: \"))\n",
        "\n",
        "if score >= 90:\n",
        "    grade = 'A'\n",
        "elif score >= 80:\n",
        "    grade = 'B'\n",
        "elif score >= 70:\n",
        "    grade = 'C'\n",
        "elif score >= 60:\n",
        "    grade = 'D'\n",
        "else:\n",
        "    grade = 'F'\n",
        "\n",
        "print(\"The student's grade is:\", grade)"
      ],
      "metadata": {
        "colab": {
          "base_uri": "https://localhost:8080/"
        },
        "id": "9GTMi_tHnLDl",
        "outputId": "e2cd0c75-734d-4605-f772-de3f4a5cd80d"
      },
      "execution_count": null,
      "outputs": [
        {
          "output_type": "stream",
          "name": "stdout",
          "text": [
            "Enter the student's score: 85\n",
            "The student's grade is: B\n"
          ]
        }
      ]
    },
    {
      "cell_type": "markdown",
      "source": [
        "# **Nested If-Else Statements:**"
      ],
      "metadata": {
        "id": "S39pCSuRum48"
      }
    },
    {
      "cell_type": "markdown",
      "source": [
        "11. Write a program to find the largest among three numbers using nested if-else statements."
      ],
      "metadata": {
        "id": "Sa9jYW6ZuxiH"
      }
    },
    {
      "cell_type": "code",
      "source": [],
      "metadata": {
        "id": "xg3Fc03Pud7E"
      },
      "execution_count": null,
      "outputs": []
    }
  ]
}