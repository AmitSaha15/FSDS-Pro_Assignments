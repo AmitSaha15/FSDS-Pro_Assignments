{
  "nbformat": 4,
  "nbformat_minor": 0,
  "metadata": {
    "colab": {
      "provenance": [],
      "collapsed_sections": [
        "ifx8TezLfM-3",
        "S39pCSuRum48",
        "DjySYeu0hvZq",
        "vAJFMFeRaR5w",
        "4-1IYT8Be2z_"
      ],
      "include_colab_link": true
    },
    "kernelspec": {
      "name": "python3",
      "display_name": "Python 3"
    },
    "language_info": {
      "name": "python"
    }
  },
  "cells": [
    {
      "cell_type": "markdown",
      "metadata": {
        "id": "view-in-github",
        "colab_type": "text"
      },
      "source": [
        "<a href=\"https://colab.research.google.com/github/AmitSaha15/FSDS-Pro_Assignments/blob/main/Control_flow_assignment.ipynb\" target=\"_parent\"><img src=\"https://colab.research.google.com/assets/colab-badge.svg\" alt=\"Open In Colab\"/></a>"
      ]
    },
    {
      "cell_type": "markdown",
      "source": [
        "# **Basic If-Else Statements:**"
      ],
      "metadata": {
        "id": "ifx8TezLfM-3"
      }
    },
    {
      "cell_type": "markdown",
      "source": [
        "1. Write a Python program to check if a given number is positive or negative."
      ],
      "metadata": {
        "id": "ud6gbHQ2feHz"
      }
    },
    {
      "cell_type": "code",
      "execution_count": null,
      "metadata": {
        "id": "89xc-YriU4pn",
        "colab": {
          "base_uri": "https://localhost:8080/"
        },
        "outputId": "7c64c8d0-ef3d-4790-9b17-4a092d692bcc"
      },
      "outputs": [
        {
          "output_type": "stream",
          "name": "stdout",
          "text": [
            "Enter any number: -4\n",
            "Negative number.\n"
          ]
        }
      ],
      "source": [
        "n = float(input(\"Enter any number: \"))\n",
        "if n<0:\n",
        "  print(\"Negative number.\")\n",
        "else:\n",
        "  print(\"Positive number.\")"
      ]
    },
    {
      "cell_type": "markdown",
      "source": [
        "2. Create a program that determines if a person is eligible to vote based on their age."
      ],
      "metadata": {
        "id": "ICY2_7qvgEPq"
      }
    },
    {
      "cell_type": "code",
      "source": [
        "age = int(input(\"Enter your age: \"))\n",
        "if age >= 18:\n",
        "  print(\"You are eligible to vote.\")\n",
        "else:\n",
        "  print(\"You are not eligible to vote.\")"
      ],
      "metadata": {
        "colab": {
          "base_uri": "https://localhost:8080/"
        },
        "id": "9SFhHZRVf3jC",
        "outputId": "90db0f19-18b2-4615-b568-8b729124abd0"
      },
      "execution_count": null,
      "outputs": [
        {
          "output_type": "stream",
          "name": "stdout",
          "text": [
            "Enter your age: 17\n",
            "You are not eligible to vote.\n"
          ]
        }
      ]
    },
    {
      "cell_type": "markdown",
      "source": [
        "3. Develop a program to find the maximum of two numbers using if-else statements."
      ],
      "metadata": {
        "id": "Wja3kWwIgm3t"
      }
    },
    {
      "cell_type": "code",
      "source": [
        "def max_of_two_nums(num1,num2):\n",
        "  if num1 > num2:\n",
        "    print(f\"{num1} is greater than {num2}.\")\n",
        "  else:\n",
        "    print(f\"{num2} is greater than {num1}.\")\n",
        "\n",
        "max_of_two_nums(499.5,256)"
      ],
      "metadata": {
        "colab": {
          "base_uri": "https://localhost:8080/"
        },
        "id": "qP3BWN0bgdwZ",
        "outputId": "91b8a07f-67f0-447e-8709-4dfaca58ffa5"
      },
      "execution_count": null,
      "outputs": [
        {
          "output_type": "stream",
          "name": "stdout",
          "text": [
            "499.5 is greater than 256.\n"
          ]
        }
      ]
    },
    {
      "cell_type": "markdown",
      "source": [
        "4. Write a Python script to classify a given year as a leap year or not."
      ],
      "metadata": {
        "id": "C_Jc3lvqiKVo"
      }
    },
    {
      "cell_type": "code",
      "source": [
        "year = int(input(\"Which year do you want to check? \"))\n",
        "true = \"This is a Leap year!\"\n",
        "false = \"This is not a Leap year!\"\n",
        "if year % 4 == 0:\n",
        "    if year % 100 ==0:\n",
        "        if year % 400 == 0:\n",
        "            print(true)\n",
        "        else:\n",
        "            print(false)\n",
        "    else:\n",
        "        print(true)\n",
        "else:\n",
        "    print(false)"
      ],
      "metadata": {
        "colab": {
          "base_uri": "https://localhost:8080/"
        },
        "id": "KlzNs1V5iCmg",
        "outputId": "c6261b77-72fa-4ba3-8d00-69a29403ec2c"
      },
      "execution_count": null,
      "outputs": [
        {
          "output_type": "stream",
          "name": "stdout",
          "text": [
            "Which year do you want to check? 2100\n",
            "This is not a Leap year!\n"
          ]
        }
      ]
    },
    {
      "cell_type": "markdown",
      "source": [
        "5. Create a program that checks whether a character is a vowel or a consonant."
      ],
      "metadata": {
        "id": "aFOv39Opi_Hi"
      }
    },
    {
      "cell_type": "code",
      "source": [
        "char = input(\"Enter a character: \")\n",
        "vowels = set(\"aeiouAEIOU\")\n",
        "if char in vowels:\n",
        "  print(\"It is a vowel.\")\n",
        "else:\n",
        "  print(\"It is a consonant.\")"
      ],
      "metadata": {
        "colab": {
          "base_uri": "https://localhost:8080/"
        },
        "id": "f2LpILLMi0SP",
        "outputId": "f6a93639-0783-4cb2-a4d5-f2e044d33781"
      },
      "execution_count": null,
      "outputs": [
        {
          "output_type": "stream",
          "name": "stdout",
          "text": [
            "Enter a character: m\n",
            "It is a consonant.\n"
          ]
        }
      ]
    },
    {
      "cell_type": "markdown",
      "source": [
        "6. Implement a program to determine whether a given number is even or odd."
      ],
      "metadata": {
        "id": "sVuxLQcOkraM"
      }
    },
    {
      "cell_type": "code",
      "source": [
        "def odd_or_even(num):\n",
        "  if num % 2 == 0:\n",
        "    print(\"Even number.\")\n",
        "  else:\n",
        "    print(\"Odd number.\")\n",
        "\n",
        "given_num = 2001\n",
        "odd_or_even(given_num)"
      ],
      "metadata": {
        "colab": {
          "base_uri": "https://localhost:8080/"
        },
        "id": "EWBugXqzki2D",
        "outputId": "f2bc346d-f2b9-4e54-d92a-e50a9ac630c2"
      },
      "execution_count": null,
      "outputs": [
        {
          "output_type": "stream",
          "name": "stdout",
          "text": [
            "Odd number.\n"
          ]
        }
      ]
    },
    {
      "cell_type": "markdown",
      "source": [
        "7. Write a Python function to calculate the absolute value of a number without using the `abs()` function."
      ],
      "metadata": {
        "id": "RFEtM4HCln3t"
      }
    },
    {
      "cell_type": "code",
      "source": [
        "def calculate_absolute_value(number):\n",
        "    if number < 0:\n",
        "        return -number\n",
        "    else:\n",
        "        return number\n",
        "\n",
        "num = -5\n",
        "absolute_num = calculate_absolute_value(num)\n",
        "print(f\"The absolute value of {num} is {absolute_num}\")"
      ],
      "metadata": {
        "colab": {
          "base_uri": "https://localhost:8080/"
        },
        "id": "nhjRWy1DlOCw",
        "outputId": "a4a49446-7c4a-49d0-9770-910d925888ec"
      },
      "execution_count": null,
      "outputs": [
        {
          "output_type": "stream",
          "name": "stdout",
          "text": [
            "The absolute value of -5 is 5\n"
          ]
        }
      ]
    },
    {
      "cell_type": "markdown",
      "source": [
        "8. Develop a program that determines the largest of three given numbers using if-else statements."
      ],
      "metadata": {
        "id": "twMEhbEZmMto"
      }
    },
    {
      "cell_type": "code",
      "source": [
        "num1 = float(input(\"Enter the first number: \"))\n",
        "num2 = float(input(\"Enter the second number: \"))\n",
        "num3 = float(input(\"Enter the third number: \"))\n",
        "\n",
        "if num1 >= num2 and num1 >= num3:\n",
        "    largest = num1\n",
        "elif num2 >= num1 and num2 >= num3:\n",
        "    largest = num2\n",
        "else:\n",
        "    largest = num3\n",
        "\n",
        "print(\"The largest number is:\", largest)"
      ],
      "metadata": {
        "colab": {
          "base_uri": "https://localhost:8080/"
        },
        "id": "uBMlEfLOmGvE",
        "outputId": "d149983b-c7ef-4581-eeba-527cc4862c0e"
      },
      "execution_count": null,
      "outputs": [
        {
          "output_type": "stream",
          "name": "stdout",
          "text": [
            "Enter the first number: 784\n",
            "Enter the second number: 555\n",
            "Enter the third number: 1067\n",
            "The largest number is: 1067.0\n"
          ]
        }
      ]
    },
    {
      "cell_type": "markdown",
      "source": [
        "9. Create a program that checks if a given string is a palindrome."
      ],
      "metadata": {
        "id": "hD9ABCsSmu6n"
      }
    },
    {
      "cell_type": "code",
      "source": [
        "s = input(\"Enter a string: \")\n",
        "temp_string = s[::-1]\n",
        "if(temp_string == s):\n",
        "    print(\"Yes the string is palindrome.\")\n",
        "else:\n",
        "    print(\"No the string is not palindrome.\")"
      ],
      "metadata": {
        "colab": {
          "base_uri": "https://localhost:8080/"
        },
        "id": "eVA3T2f_mlos",
        "outputId": "60f979b6-1968-4554-810d-7c67bc8bb74b"
      },
      "execution_count": null,
      "outputs": [
        {
          "output_type": "stream",
          "name": "stdout",
          "text": [
            "Enter a string: madam\n",
            "Yes the string is palindrome.\n"
          ]
        }
      ]
    },
    {
      "cell_type": "markdown",
      "source": [
        "10. Write a Python program to calculate the grade based on a student's score."
      ],
      "metadata": {
        "id": "SY4Ny9_EnjbQ"
      }
    },
    {
      "cell_type": "code",
      "source": [
        "score = float(input(\"Enter the student's score: \"))\n",
        "\n",
        "if score >= 90:\n",
        "    grade = 'A'\n",
        "elif score >= 80:\n",
        "    grade = 'B'\n",
        "elif score >= 70:\n",
        "    grade = 'C'\n",
        "elif score >= 60:\n",
        "    grade = 'D'\n",
        "else:\n",
        "    grade = 'F'\n",
        "\n",
        "print(\"The student's grade is:\", grade)"
      ],
      "metadata": {
        "colab": {
          "base_uri": "https://localhost:8080/"
        },
        "id": "9GTMi_tHnLDl",
        "outputId": "e2cd0c75-734d-4605-f772-de3f4a5cd80d"
      },
      "execution_count": null,
      "outputs": [
        {
          "output_type": "stream",
          "name": "stdout",
          "text": [
            "Enter the student's score: 85\n",
            "The student's grade is: B\n"
          ]
        }
      ]
    },
    {
      "cell_type": "markdown",
      "source": [
        "# **Nested If-Else Statements:**"
      ],
      "metadata": {
        "id": "S39pCSuRum48"
      }
    },
    {
      "cell_type": "markdown",
      "source": [
        "11. Write a program to find the largest among three numbers using nested if-else statements."
      ],
      "metadata": {
        "id": "Sa9jYW6ZuxiH"
      }
    },
    {
      "cell_type": "code",
      "source": [
        "num1 = float(input(\"Enter the first number: \"))\n",
        "num2 = float(input(\"Enter the second number: \"))\n",
        "num3 = float(input(\"Enter the third number: \"))\n",
        "\n",
        "if num1 >= num2:\n",
        "    if num1 >= num3:\n",
        "        largest = num1\n",
        "    else:\n",
        "        largest = num3\n",
        "else:\n",
        "    if num2 >= num3:\n",
        "        largest = num2\n",
        "    else:\n",
        "        largest = num3\n",
        "\n",
        "print(\"The largest number is:\", largest)"
      ],
      "metadata": {
        "id": "xg3Fc03Pud7E",
        "colab": {
          "base_uri": "https://localhost:8080/"
        },
        "outputId": "79f682c2-f19e-4cbd-e39b-3b1356b80141"
      },
      "execution_count": null,
      "outputs": [
        {
          "output_type": "stream",
          "name": "stdout",
          "text": [
            "Enter the first number: 871\n",
            "Enter the second number: 123\n",
            "Enter the third number: 788\n",
            "The largest number is: 871.0\n"
          ]
        }
      ]
    },
    {
      "cell_type": "markdown",
      "source": [
        "12. Implement a program to determine if a triangle is equilateral, isosceles, or scalene."
      ],
      "metadata": {
        "id": "L3sQTNr89DZ-"
      }
    },
    {
      "cell_type": "code",
      "source": [
        "side1 = float(input(\"Enter the length of the first side: \"))\n",
        "side2 = float(input(\"Enter the length of the second side: \"))\n",
        "side3 = float(input(\"Enter the length of the third side: \"))\n",
        "\n",
        "if side1 == side2 == side3:\n",
        "    triangle_type = \"Equilateral\"\n",
        "elif side1 == side2 or side1 == side3 or side2 == side3:\n",
        "    triangle_type = \"Isosceles\"\n",
        "else:\n",
        "    triangle_type = \"Scalene\"\n",
        "\n",
        "print(f\"The triangle is a/an {triangle_type} triangle.\")"
      ],
      "metadata": {
        "colab": {
          "base_uri": "https://localhost:8080/"
        },
        "id": "moIgA7Ay87Oo",
        "outputId": "cabfcce1-0722-4313-aa87-2f20ef854bba"
      },
      "execution_count": null,
      "outputs": [
        {
          "output_type": "stream",
          "name": "stdout",
          "text": [
            "Enter the length of the first side: 4\n",
            "Enter the length of the second side: 6\n",
            "Enter the length of the third side: 4\n",
            "The triangle is a/an Isosceles triangle.\n"
          ]
        }
      ]
    },
    {
      "cell_type": "markdown",
      "source": [
        "13. Develop a program that checks if a year is a leap year and also if it is a century year."
      ],
      "metadata": {
        "id": "qWxOdl5E9scC"
      }
    },
    {
      "cell_type": "code",
      "source": [
        "year = int(input(\"Enter a year: \"))\n",
        "\n",
        "if (year % 4 == 0 and year % 100 != 0) or (year % 400 == 0):\n",
        "    is_leap_year = True\n",
        "else:\n",
        "    is_leap_year = False\n",
        "\n",
        "is_century_year = year % 100 == 0\n",
        "\n",
        "if is_leap_year:\n",
        "    print(f\"{year} is a leap year.\")\n",
        "else:\n",
        "    print(f\"{year} is not a leap year.\")\n",
        "\n",
        "if is_century_year:\n",
        "    print(f\"{year} is a century year.\")\n",
        "else:\n",
        "    print(f\"{year} is not a century year.\")"
      ],
      "metadata": {
        "colab": {
          "base_uri": "https://localhost:8080/"
        },
        "id": "BvUwsdeT9j3i",
        "outputId": "75a16aca-244a-4035-f695-06389e582812"
      },
      "execution_count": null,
      "outputs": [
        {
          "output_type": "stream",
          "name": "stdout",
          "text": [
            "Enter a year: 1900\n",
            "1900 is not a leap year.\n",
            "1900 is a century year.\n"
          ]
        }
      ]
    },
    {
      "cell_type": "markdown",
      "source": [
        "14. Write a Python script to determine if a number is positive, negative, or zero."
      ],
      "metadata": {
        "id": "-_B7jRZR-jQJ"
      }
    },
    {
      "cell_type": "code",
      "source": [
        "number = float(input(\"Enter a number: \"))\n",
        "\n",
        "if number > 0:\n",
        "    print(\"The number is positive.\")\n",
        "elif number < 0:\n",
        "    print(\"The number is negative.\")\n",
        "else:\n",
        "    print(\"The number is zero.\")"
      ],
      "metadata": {
        "colab": {
          "base_uri": "https://localhost:8080/"
        },
        "id": "uD8yvual-eHH",
        "outputId": "708cf872-519d-4662-d91f-19b8801acc0b"
      },
      "execution_count": null,
      "outputs": [
        {
          "output_type": "stream",
          "name": "stdout",
          "text": [
            "Enter a number: -8\n",
            "The number is negative.\n"
          ]
        }
      ]
    },
    {
      "cell_type": "markdown",
      "source": [
        "15. Create a program to check if a person is a teenager (between 13 and 19 years old)."
      ],
      "metadata": {
        "id": "NLDRHSzA_wOW"
      }
    },
    {
      "cell_type": "code",
      "source": [
        "age = int(input(\"Enter your age: \"))\n",
        "if age>=13 and age<=19:\n",
        "  print(\"You are a teenager.\")\n",
        "else:\n",
        "  print(\"You are not a teenager.\")"
      ],
      "metadata": {
        "colab": {
          "base_uri": "https://localhost:8080/"
        },
        "id": "HIzm3dsy_rnF",
        "outputId": "cc009c39-3494-4c81-cd59-bc5676f34450"
      },
      "execution_count": null,
      "outputs": [
        {
          "output_type": "stream",
          "name": "stdout",
          "text": [
            "Enter your age: 21\n",
            "You are not a teenager.\n"
          ]
        }
      ]
    },
    {
      "cell_type": "markdown",
      "source": [
        "16. Develop a program that determines the type of angle based on its measure (acute, obtuse, or right)."
      ],
      "metadata": {
        "id": "Sgj1NjQJAV5m"
      }
    },
    {
      "cell_type": "code",
      "source": [
        "angle_measure = float(input(\"Enter the measure of the angle in degrees: \"))\n",
        "\n",
        "if angle_measure == 90:\n",
        "    angle_type = \"Right\"\n",
        "elif angle_measure < 90:\n",
        "    angle_type = \"Acute\"\n",
        "else:\n",
        "    angle_type = \"Obtuse\"\n",
        "\n",
        "print(f\"The angle with a measure of {angle_measure} degrees is a {angle_type} angle.\")"
      ],
      "metadata": {
        "colab": {
          "base_uri": "https://localhost:8080/"
        },
        "id": "vqk3StPLAI24",
        "outputId": "a714036c-7bb4-4cfe-ab4c-d435f7e339e5"
      },
      "execution_count": null,
      "outputs": [
        {
          "output_type": "stream",
          "name": "stdout",
          "text": [
            "Enter the measure of the angle in degrees: 120\n",
            "The angle with a measure of 120.0 degrees is a Obtuse angle.\n"
          ]
        }
      ]
    },
    {
      "cell_type": "markdown",
      "source": [
        "17. Write a Python program to calculate the roots of a quadratic equation."
      ],
      "metadata": {
        "id": "DyoLqmkEA2lr"
      }
    },
    {
      "cell_type": "code",
      "source": [
        "import math\n",
        "\n",
        "a = float(input(\"Enter the coefficient 'a': \"))\n",
        "b = float(input(\"Enter the coefficient 'b': \"))\n",
        "c = float(input(\"Enter the coefficient 'c': \"))\n",
        "\n",
        "discriminant = b**2 - 4*a*c\n",
        "\n",
        "if discriminant > 0:\n",
        "    root1 = (-b + math.sqrt(discriminant)) / (2*a)\n",
        "    root2 = (-b - math.sqrt(discriminant)) / (2*a)\n",
        "    print(f\"Two distinct real roots: Root1 = {root1}, Root2 = {root2}\")\n",
        "elif discriminant == 0:\n",
        "    root1 = root2 = -b / (2*a)\n",
        "    print(f\"One real root: Root1 = Root2 = {root1}\")\n",
        "else:\n",
        "    real_part = -b / (2*a)\n",
        "    imaginary_part = math.sqrt(abs(discriminant)) / (2*a)\n",
        "    print(f\"Complex roots: Root1 = {real_part} + {imaginary_part}i, Root2 = {real_part} - {imaginary_part}i\")"
      ],
      "metadata": {
        "colab": {
          "base_uri": "https://localhost:8080/"
        },
        "id": "WLzc5GjrAuHJ",
        "outputId": "b139f803-9030-4b9e-ce6a-fea09a0324dc"
      },
      "execution_count": null,
      "outputs": [
        {
          "output_type": "stream",
          "name": "stdout",
          "text": [
            "Enter the coefficient 'a': 1\n",
            "Enter the coefficient 'b': -3\n",
            "Enter the coefficient 'c': 2\n",
            "Two distinct real roots: Root1 = 2.0, Root2 = 1.0\n"
          ]
        }
      ]
    },
    {
      "cell_type": "markdown",
      "source": [
        "18. Implement a program to determine the day of the week based on a user-provided number (1 for Monday, 2 for Tuesday, etc.)."
      ],
      "metadata": {
        "id": "cNjBiWQMbsQm"
      }
    },
    {
      "cell_type": "code",
      "source": [
        "def get_day_of_week(number):\n",
        "    days_of_week = [\"Monday\", \"Tuesday\", \"Wednesday\", \"Thursday\", \"Friday\", \"Saturday\", \"Sunday\"]\n",
        "\n",
        "    if 1 <= number <= 7:\n",
        "        print(f\"The day of the week is: {days_of_week[number - 1]}\")\n",
        "    else:\n",
        "        return print(\"Invalid input. Please enter a number between 1 and 7.\")\n",
        "\n",
        "user_input = int(input(\"Enter a number (1 for Monday, 2 for Tuesday, etc.): \"))\n",
        "day_of_week = get_day_of_week(user_input)"
      ],
      "metadata": {
        "id": "NYF7Tz1qD-nT",
        "colab": {
          "base_uri": "https://localhost:8080/"
        },
        "outputId": "806ff100-57eb-48a2-c390-dbfc7c73e374"
      },
      "execution_count": null,
      "outputs": [
        {
          "output_type": "stream",
          "name": "stdout",
          "text": [
            "Enter a number (1 for Monday, 2 for Tuesday, etc.): 14\n",
            "Invalid input. Please enter a number between 1 and 7.\n"
          ]
        }
      ]
    },
    {
      "cell_type": "markdown",
      "source": [
        "19. Create a program that determines if a year is a leap year and also if it is evenly divisible by 400."
      ],
      "metadata": {
        "id": "jdKxN0WRe9wE"
      }
    },
    {
      "cell_type": "code",
      "source": [
        "year = int(input(\"Enter a year: \"))\n",
        "\n",
        "if (year % 4 == 0 and year % 100 != 0) or (year % 400 == 0):\n",
        "    is_leap_year = True\n",
        "else:\n",
        "    is_leap_year = False\n",
        "\n",
        "if is_leap_year:\n",
        "    print(f\"{year} is a leap year and evenly divisible by 400.\")\n",
        "else:\n",
        "    print(f\"{year} is not a leap year and not evenly divisible by 400.\")"
      ],
      "metadata": {
        "colab": {
          "base_uri": "https://localhost:8080/"
        },
        "id": "acohvbNBd8qR",
        "outputId": "74520618-900c-404a-eca7-79927c96e982"
      },
      "execution_count": null,
      "outputs": [
        {
          "output_type": "stream",
          "name": "stdout",
          "text": [
            "Enter a year: 2100\n",
            "2100 is not a leap year and not evenly divisible by 400.\n"
          ]
        }
      ]
    },
    {
      "cell_type": "markdown",
      "source": [
        "20. Develop a program that checks if a given number is prime or not using nested if-else statements."
      ],
      "metadata": {
        "id": "fhDOs7Tigj6J"
      }
    },
    {
      "cell_type": "code",
      "source": [
        "def is_prime(number):\n",
        "    if number <= 1:\n",
        "        return False\n",
        "    elif number == 2:\n",
        "        return True\n",
        "    elif number % 2 == 0:\n",
        "        return False\n",
        "    else:\n",
        "        for i in range(3, int(number**0.5) + 1, 2):\n",
        "            if number % i == 0:\n",
        "                return False\n",
        "        return True\n",
        "\n",
        "num = int(input(\"Enter a number: \"))\n",
        "\n",
        "if is_prime(num):\n",
        "    print(f\"{num} is a prime number.\")\n",
        "else:\n",
        "    print(f\"{num} is not a prime number.\")"
      ],
      "metadata": {
        "colab": {
          "base_uri": "https://localhost:8080/"
        },
        "id": "gzKKIoajgP4F",
        "outputId": "d8513e24-6991-4a41-e191-da38c18c5924"
      },
      "execution_count": null,
      "outputs": [
        {
          "output_type": "stream",
          "name": "stdout",
          "text": [
            "Enter a number: 9\n",
            "9 is not a prime number.\n"
          ]
        }
      ]
    },
    {
      "cell_type": "markdown",
      "source": [
        "# **Elif statements:**"
      ],
      "metadata": {
        "id": "DjySYeu0hvZq"
      }
    },
    {
      "cell_type": "markdown",
      "source": [
        "21. Write a Python program to assign grades based on different ranges of scores using elif statements."
      ],
      "metadata": {
        "id": "NB1cm6ELh46y"
      }
    },
    {
      "cell_type": "code",
      "source": [
        "def assign_grade(score):\n",
        "    if 90 <= score <= 100:\n",
        "        return \"A\"\n",
        "    elif 80 <= score < 90:\n",
        "        return \"B\"\n",
        "    elif 70 <= score < 80:\n",
        "        return \"C\"\n",
        "    elif 60 <= score < 70:\n",
        "        return \"D\"\n",
        "    else:\n",
        "        return \"F\"\n",
        "\n",
        "\n",
        "score = float(input(\"Enter your score: \"))\n",
        "grade = assign_grade(score)\n",
        "print(f\"Your grade is: {grade}\")"
      ],
      "metadata": {
        "colab": {
          "base_uri": "https://localhost:8080/"
        },
        "id": "Y5F5FCrBhp5b",
        "outputId": "e0eb8197-b7b4-47f7-c883-536f8cba1488"
      },
      "execution_count": null,
      "outputs": [
        {
          "output_type": "stream",
          "name": "stdout",
          "text": [
            "Enter your score: 94\n",
            "Your grade is: A\n"
          ]
        }
      ]
    },
    {
      "cell_type": "markdown",
      "source": [
        "22. Implement a program to determine the type of a triangle based on its angles."
      ],
      "metadata": {
        "id": "NGlo4ENxjjCR"
      }
    },
    {
      "cell_type": "code",
      "source": [
        "angle1 = float(input(\"Enter the first angle: \"))\n",
        "angle2 = float(input(\"Enter the second angle: \"))\n",
        "angle3 = float(input(\"Enter the third angle: \"))\n",
        "\n",
        "def triangle_type(angle1, angle2, angle3):\n",
        "    if angle1 + angle2 + angle3 == 180:\n",
        "        if angle1 < 90 and angle2 < 90 and angle3 < 90:\n",
        "            return \"This is an acute triangle.\"\n",
        "        elif angle1 == 90 or angle2 == 90 or angle3 == 90:\n",
        "            return \"This is a right triangle.\"\n",
        "        else:\n",
        "            return \"This is an obtuse triangle.\"\n",
        "    else:\n",
        "        return \"Invalid triangle. The sum of angles must be 180 degrees.\"\n",
        "\n",
        "try:\n",
        "  result = triangle_type(angle1, angle2, angle3)\n",
        "  print(result)\n",
        "except ValueError:\n",
        "    print(\"Invalid input. Please enter valid angle values.\")"
      ],
      "metadata": {
        "colab": {
          "base_uri": "https://localhost:8080/"
        },
        "id": "kp3LyAaXjdT9",
        "outputId": "18648141-2d4e-4a2a-c4a7-cb16c928b016"
      },
      "execution_count": null,
      "outputs": [
        {
          "output_type": "stream",
          "name": "stdout",
          "text": [
            "Enter the first angle: 90\n",
            "Enter the second angle: 60\n",
            "Enter the third angle: 30\n",
            "This is a right triangle.\n"
          ]
        }
      ]
    },
    {
      "cell_type": "markdown",
      "source": [
        "23. Develop a program to categorize a given person's BMI into underweight, normal, overweight, or obese using elif statements."
      ],
      "metadata": {
        "id": "ts36XzlIlAR6"
      }
    },
    {
      "cell_type": "code",
      "source": [
        "def categorize_bmi(weight, height):\n",
        "    bmi = weight / (height ** 2)\n",
        "\n",
        "    if bmi < 18.5:\n",
        "        return \"Underweight\"\n",
        "    elif 18.5 <= bmi < 24.9:\n",
        "        return \"Normal\"\n",
        "    elif 24.9 <= bmi < 29.9:\n",
        "        return \"Overweight\"\n",
        "    else:\n",
        "        return \"Obese\"\n",
        "\n",
        "\n",
        "weight = float(input(\"Enter your weight in kilograms: \"))\n",
        "height = float(input(\"Enter your height in meters: \"))\n",
        "\n",
        "result = categorize_bmi(weight, height)\n",
        "print(f\"Your BMI category is: {result}\")"
      ],
      "metadata": {
        "colab": {
          "base_uri": "https://localhost:8080/"
        },
        "id": "1-FFbKhWk3ft",
        "outputId": "c8612497-867e-4430-c16e-37b9cdf80c56"
      },
      "execution_count": null,
      "outputs": [
        {
          "output_type": "stream",
          "name": "stdout",
          "text": [
            "Enter your weight in kilograms: 80\n",
            "Enter your height in meters: 1.62\n",
            "Your BMI category is: Obese\n"
          ]
        }
      ]
    },
    {
      "cell_type": "markdown",
      "source": [
        "24. Create a program that determines whether a given number is positive, negative, or zero using elif statements."
      ],
      "metadata": {
        "id": "VfmWsMbKs-B4"
      }
    },
    {
      "cell_type": "code",
      "source": [
        "number = float(input(\"Enter a number: \"))\n",
        "\n",
        "if number > 0:\n",
        "    print(\"The number is positive.\")\n",
        "elif number < 0:\n",
        "    print(\"The number is negative.\")\n",
        "else:\n",
        "    print(\"The number is zero.\")"
      ],
      "metadata": {
        "colab": {
          "base_uri": "https://localhost:8080/"
        },
        "id": "_RUK4TqWsU3M",
        "outputId": "be9858cf-b4e7-47ed-b570-ec68fb92a453"
      },
      "execution_count": null,
      "outputs": [
        {
          "output_type": "stream",
          "name": "stdout",
          "text": [
            "Enter a number: 0\n",
            "The number is zero.\n"
          ]
        }
      ]
    },
    {
      "cell_type": "markdown",
      "source": [
        "25. Write a Python script to determine the type of a character (uppercase, lowercase, or special) using elif statements."
      ],
      "metadata": {
        "id": "8rQ0zfMW7yRC"
      }
    },
    {
      "cell_type": "code",
      "source": [
        "character = input(\"Enter a character: \")\n",
        "if character.isupper():\n",
        "    print(f\"The character '{character}' is uppercase.\")\n",
        "elif character.islower():\n",
        "    print(f\"The character '{character}' is lowercase.\")\n",
        "else:\n",
        "    print(f\"The character '{character}' is a special character.\")"
      ],
      "metadata": {
        "id": "ZgkKvOrStLyU",
        "colab": {
          "base_uri": "https://localhost:8080/"
        },
        "outputId": "2a355182-75f2-4b7d-ce1a-98bf026b79f2"
      },
      "execution_count": null,
      "outputs": [
        {
          "output_type": "stream",
          "name": "stdout",
          "text": [
            "Enter a character: A\n",
            "The character 'A' is uppercase.\n"
          ]
        }
      ]
    },
    {
      "cell_type": "markdown",
      "source": [
        "26. Implement a program to calculate the discounted price based on different purchase amounts using elif statements."
      ],
      "metadata": {
        "id": "9y7ccAWt88Ka"
      }
    },
    {
      "cell_type": "code",
      "source": [
        "purchase_amount = float(input(\"Enter the purchase amount: $\"))\n",
        "if purchase_amount < 50:\n",
        "    discount_rate = 0\n",
        "elif purchase_amount < 100:\n",
        "    discount_rate = 0.1\n",
        "elif purchase_amount < 200:\n",
        "    discount_rate = 0.15\n",
        "else:\n",
        "    discount_rate = 0.2\n",
        "\n",
        "discounted_price = purchase_amount - (purchase_amount * discount_rate)\n",
        "print(f\"Original Price: ${purchase_amount:.2f}\")\n",
        "print(f\"Discount Rate: {discount_rate * 100}%\")\n",
        "print(f\"Discounted Price: ${discounted_price:.2f}\")"
      ],
      "metadata": {
        "colab": {
          "base_uri": "https://localhost:8080/"
        },
        "id": "sZ8E4KTw8g9m",
        "outputId": "e7bd6217-5cc7-474c-bdd2-bf2700e1bf4a"
      },
      "execution_count": null,
      "outputs": [
        {
          "output_type": "stream",
          "name": "stdout",
          "text": [
            "Enter the purchase amount: $150\n",
            "Original Price: $150.00\n",
            "Discount Rate: 15.0%\n",
            "Discounted Price: $127.50\n"
          ]
        }
      ]
    },
    {
      "cell_type": "markdown",
      "source": [
        "27. Develop a program to calculate the electricity bill based on different consumption slabs using elif statements."
      ],
      "metadata": {
        "id": "Ua1lYkD3-yVE"
      }
    },
    {
      "cell_type": "code",
      "source": [
        "consumption = float(input(\"Enter the electricity consumption in kWh: \"))\n",
        "if consumption <= 100:\n",
        "    rate_per_unit = 0.5\n",
        "elif consumption <= 300:\n",
        "    rate_per_unit = 0.7\n",
        "elif consumption <= 500:\n",
        "    rate_per_unit = 0.9\n",
        "else:\n",
        "    rate_per_unit = 1.0\n",
        "\n",
        "\n",
        "electricity_bill = consumption * rate_per_unit\n",
        "print(f\"Electricity Consumption: {consumption} kWh\")\n",
        "print(f\"Rate per Unit: ${rate_per_unit:.2f} per kWh\")\n",
        "print(f\"Electricity Bill: ${electricity_bill:.2f}\")"
      ],
      "metadata": {
        "colab": {
          "base_uri": "https://localhost:8080/"
        },
        "id": "3ThXGnvi-rJl",
        "outputId": "daa27f74-bad3-475e-a9aa-a810499c87c3"
      },
      "execution_count": null,
      "outputs": [
        {
          "output_type": "stream",
          "name": "stdout",
          "text": [
            "Enter the electricity consumption in kWh: 1000\n",
            "Electricity Consumption: 1000.0 kWh\n",
            "Rate per Unit: $1.00 per kWh\n",
            "Electricity Bill: $1000.00\n"
          ]
        }
      ]
    },
    {
      "cell_type": "markdown",
      "source": [
        "28. Create a program to determine the type of quadrilateral based on its angles and sides using elif statements."
      ],
      "metadata": {
        "id": "KGeH7Sh2_PL8"
      }
    },
    {
      "cell_type": "code",
      "source": [
        "side1 = float(input(\"Enter the length of side 1: \"))\n",
        "side2 = float(input(\"Enter the length of side 2: \"))\n",
        "side3 = float(input(\"Enter the length of side 3: \"))\n",
        "side4 = float(input(\"Enter the length of side 4: \"))\n",
        "\n",
        "angle1 = float(input(\"Enter the measure of angle 1 in degrees: \"))\n",
        "angle2 = float(input(\"Enter the measure of angle 2 in degrees: \"))\n",
        "angle3 = float(input(\"Enter the measure of angle 3 in degrees: \"))\n",
        "angle4 = float(input(\"Enter the measure of angle 4 in degrees: \"))\n",
        "\n",
        "if angle1 == 90 and angle2 == 90 and angle3 == 90 and angle4 == 90:\n",
        "    if side1 == side2 == side3 == side4:\n",
        "        print(\"It is a square.\")\n",
        "    else:\n",
        "        print(\"It is a rectangle.\")\n",
        "elif side1 == side2 == side3 == side4:\n",
        "    if angle1 == angle2 == angle3 == angle4:\n",
        "        print(\"It is a rhombus.\")\n",
        "    else:\n",
        "        print(\"It is a parallelogram.\")\n",
        "elif (side1 == side2 and side3 != side4) or (side1 != side2 and side3 == side4):\n",
        "    print(\"It is an isosceles trapezoid.\")\n",
        "else:\n",
        "    print(\"It is a general quadrilateral.\")"
      ],
      "metadata": {
        "colab": {
          "base_uri": "https://localhost:8080/"
        },
        "id": "WPW3_ahW_JNA",
        "outputId": "d28d267f-545f-465f-97d2-4b1e0577c7fe"
      },
      "execution_count": null,
      "outputs": [
        {
          "output_type": "stream",
          "name": "stdout",
          "text": [
            "Enter the length of side 1: 5\n",
            "Enter the length of side 2: 5\n",
            "Enter the length of side 3: 5\n",
            "Enter the length of side 4: 5\n",
            "Enter the measure of angle 1 in degrees: 90\n",
            "Enter the measure of angle 2 in degrees: 90\n",
            "Enter the measure of angle 3 in degrees: 90\n",
            "Enter the measure of angle 4 in degrees: 90\n",
            "It is a square.\n"
          ]
        }
      ]
    },
    {
      "cell_type": "markdown",
      "source": [
        "29. Write a Python script to determine the season based on a user-provided month using elif statements."
      ],
      "metadata": {
        "id": "-XEgLpa6ATLP"
      }
    },
    {
      "cell_type": "code",
      "source": [
        "month = input(\"Enter a month (e.g., January, February, etc.): \")\n",
        "\n",
        "month = month.lower()\n",
        "\n",
        "if month in [\"december\", \"january\", \"february\"]:\n",
        "    season = \"Winter\"\n",
        "elif month in [\"march\", \"april\", \"may\"]:\n",
        "    season = \"Spring\"\n",
        "elif month in [\"june\", \"july\", \"august\"]:\n",
        "    season = \"Summer\"\n",
        "elif month in [\"september\", \"october\", \"november\"]:\n",
        "    season = \"Fall\"\n",
        "else:\n",
        "    season = \"Invalid input (not a month)\"\n",
        "\n",
        "print(f\"The season for {month.capitalize()} is {season}.\")"
      ],
      "metadata": {
        "colab": {
          "base_uri": "https://localhost:8080/"
        },
        "id": "4OTfMf7RAFIa",
        "outputId": "ac1c73b4-ade5-4a2a-e886-905fdc43a7a0"
      },
      "execution_count": null,
      "outputs": [
        {
          "output_type": "stream",
          "name": "stdout",
          "text": [
            "Enter a month (e.g., January, February, etc.): October\n",
            "The season for October is Fall.\n"
          ]
        }
      ]
    },
    {
      "cell_type": "markdown",
      "source": [
        "30. Implement a program to determine the type of a year (leap or common) and month (30 or 31 days) using elif statements."
      ],
      "metadata": {
        "id": "GbVWil3eAihW"
      }
    },
    {
      "cell_type": "code",
      "source": [
        "year = int(input(\"Enter a year: \"))\n",
        "\n",
        "if (year % 4 == 0 and year % 100 != 0) or (year % 400 == 0):\n",
        "    year_type = \"Leap\"\n",
        "else:\n",
        "    year_type = \"Common\"\n",
        "\n",
        "month = input(\"Enter a month (e.g., January, February, etc.): \")\n",
        "\n",
        "month = month.lower()\n",
        "\n",
        "if month in [\"january\", \"march\", \"may\", \"july\", \"august\", \"october\", \"december\"]:\n",
        "    days = 31\n",
        "elif month in [\"april\", \"june\", \"september\", \"november\"]:\n",
        "    days = 30\n",
        "elif month == \"february\":\n",
        "    if year_type == \"Leap\":\n",
        "        days = 29\n",
        "    else:\n",
        "        days = 28\n",
        "else:\n",
        "    days = \"Invalid input (not a month)\"\n",
        "\n",
        "print(f\"{year} is a {year_type} year.\")\n",
        "print(f\"{month.capitalize()} has {days} days.\")"
      ],
      "metadata": {
        "colab": {
          "base_uri": "https://localhost:8080/"
        },
        "id": "6xdj1jz7Ac_f",
        "outputId": "5e0bd48b-1b97-4bf6-ae24-de701f5b780d"
      },
      "execution_count": null,
      "outputs": [
        {
          "output_type": "stream",
          "name": "stdout",
          "text": [
            "Enter a year: 2000\n",
            "Enter a month (e.g., January, February, etc.): February\n",
            "2000 is a Leap year.\n",
            "February has 29 days.\n"
          ]
        }
      ]
    },
    {
      "cell_type": "markdown",
      "source": [
        "# **Basic Level:**"
      ],
      "metadata": {
        "id": "vAJFMFeRaR5w"
      }
    },
    {
      "cell_type": "markdown",
      "source": [
        "1. Write a Python program that checks if a given number is positive, negative, or zero."
      ],
      "metadata": {
        "id": "tp6z1_J4aX_T"
      }
    },
    {
      "cell_type": "code",
      "source": [
        "num = int(input(\"Enter any number: \"))\n",
        "\n",
        "if num > 0:\n",
        "  print(\"Positive number.\")\n",
        "elif num < 0:\n",
        "  print(\"Negative number.\")\n",
        "else:\n",
        "  print(\"The number is zero.\")"
      ],
      "metadata": {
        "id": "oXpIIxe0A0tV",
        "colab": {
          "base_uri": "https://localhost:8080/"
        },
        "outputId": "f0928844-b07d-4e89-dadb-afa267c0a28c"
      },
      "execution_count": null,
      "outputs": [
        {
          "output_type": "stream",
          "name": "stdout",
          "text": [
            "Enter any number: 0\n",
            "The number is zero.\n"
          ]
        }
      ]
    },
    {
      "cell_type": "markdown",
      "source": [
        "2. Create a program to determine if a person is eligible to vote based on their age."
      ],
      "metadata": {
        "id": "zvMzJPa7bL3Q"
      }
    },
    {
      "cell_type": "code",
      "source": [
        "age = int(input(\"Enter your age: \"))\n",
        "\n",
        "if age >= 18:\n",
        "  print(\"You are eligible to vote!\")\n",
        "else:\n",
        "  print(\"You are not eligible to vote!\")"
      ],
      "metadata": {
        "colab": {
          "base_uri": "https://localhost:8080/"
        },
        "id": "uy35kP7SbHxT",
        "outputId": "bd16b475-82ec-42e5-b9b3-f73084535997"
      },
      "execution_count": null,
      "outputs": [
        {
          "output_type": "stream",
          "name": "stdout",
          "text": [
            "Enter your age: 18\n",
            "You are eligible to vote!\n"
          ]
        }
      ]
    },
    {
      "cell_type": "markdown",
      "source": [
        "3. Write a program to find the maximum of two given numbers using conditional statements."
      ],
      "metadata": {
        "id": "GEgWGQsJbqbF"
      }
    },
    {
      "cell_type": "code",
      "source": [
        "def max_of_two_nums(num1,num2):\n",
        "  if num1 > num2:\n",
        "    print(f\"{num1} is greater than {num2}.\")\n",
        "  else:\n",
        "    print(f\"{num2} is greater than {num1}.\")\n",
        "\n",
        "max_of_two_nums(499.5,256)"
      ],
      "metadata": {
        "colab": {
          "base_uri": "https://localhost:8080/"
        },
        "id": "BCw-vGPZbmZK",
        "outputId": "91278010-dc58-4722-d526-e1bc6a90c9a6"
      },
      "execution_count": null,
      "outputs": [
        {
          "output_type": "stream",
          "name": "stdout",
          "text": [
            "499.5 is greater than 256.\n"
          ]
        }
      ]
    },
    {
      "cell_type": "markdown",
      "source": [
        "4. Develop a program that calculates the grade of a student based on their exam score."
      ],
      "metadata": {
        "id": "tSe7PspFci2T"
      }
    },
    {
      "cell_type": "code",
      "source": [
        "score = float(input(\"Enter the student's score: \"))\n",
        "\n",
        "if score >= 90:\n",
        "    grade = 'A'\n",
        "elif score >= 80:\n",
        "    grade = 'B'\n",
        "elif score >= 70:\n",
        "    grade = 'C'\n",
        "elif score >= 60:\n",
        "    grade = 'D'\n",
        "else:\n",
        "    grade = 'F'\n",
        "\n",
        "print(\"The student's grade is:\", grade)"
      ],
      "metadata": {
        "colab": {
          "base_uri": "https://localhost:8080/"
        },
        "id": "KmUzxljeclXI",
        "outputId": "bb84ebed-75f1-4845-a222-661f76d3280b"
      },
      "execution_count": null,
      "outputs": [
        {
          "output_type": "stream",
          "name": "stdout",
          "text": [
            "Enter the student's score: 90\n",
            "The student's grade is: A\n"
          ]
        }
      ]
    },
    {
      "cell_type": "markdown",
      "source": [
        "5. Create a program that checks if a year is a leap year or not."
      ],
      "metadata": {
        "id": "dDpQ9Hh-cFLe"
      }
    },
    {
      "cell_type": "code",
      "source": [
        "year = int(input(\"Which year do you want to check? \"))\n",
        "true = \"This is a Leap year!\"\n",
        "false = \"This is not a Leap year!\"\n",
        "if year % 4 == 0:\n",
        "    if year % 100 ==0:\n",
        "        if year % 400 == 0:\n",
        "            print(true)\n",
        "        else:\n",
        "            print(false)\n",
        "    else:\n",
        "        print(true)\n",
        "else:\n",
        "    print(false)"
      ],
      "metadata": {
        "colab": {
          "base_uri": "https://localhost:8080/"
        },
        "id": "k8IsVtwccBky",
        "outputId": "d98bd8ca-5768-4631-caf6-5ee4f5674a75"
      },
      "execution_count": null,
      "outputs": [
        {
          "output_type": "stream",
          "name": "stdout",
          "text": [
            "Which year do you want to check? 2001\n",
            "This is not a Leap year!\n"
          ]
        }
      ]
    },
    {
      "cell_type": "markdown",
      "source": [
        "6. Write a program to classify a triangle based on its sides' lengths."
      ],
      "metadata": {
        "id": "3Zd4xkjMcTAJ"
      }
    },
    {
      "cell_type": "code",
      "source": [
        "side1 = float(input(\"Enter the length of the first side: \"))\n",
        "side2 = float(input(\"Enter the length of the second side: \"))\n",
        "side3 = float(input(\"Enter the length of the third side: \"))\n",
        "\n",
        "if side1 == side2 == side3:\n",
        "    triangle_type = \"Equilateral\"\n",
        "elif side1 == side2 or side1 == side3 or side2 == side3:\n",
        "    triangle_type = \"Isosceles\"\n",
        "else:\n",
        "    triangle_type = \"Scalene\"\n",
        "\n",
        "print(f\"The triangle is a/an {triangle_type} triangle.\")"
      ],
      "metadata": {
        "colab": {
          "base_uri": "https://localhost:8080/"
        },
        "id": "LmWs40xbcNRl",
        "outputId": "74188879-2b67-462a-b4ba-0faee8ed867b"
      },
      "execution_count": null,
      "outputs": [
        {
          "output_type": "stream",
          "name": "stdout",
          "text": [
            "Enter the length of the first side: 8\n",
            "Enter the length of the second side: 4\n",
            "Enter the length of the third side: 4\n",
            "The triangle is a/an Isosceles triangle.\n"
          ]
        }
      ]
    },
    {
      "cell_type": "markdown",
      "source": [
        "7. Build a program that determines the largest of three given numbers."
      ],
      "metadata": {
        "id": "CDBQjkXedMGS"
      }
    },
    {
      "cell_type": "code",
      "source": [
        "num1 = float(input(\"Enter the first number: \"))\n",
        "num2 = float(input(\"Enter the second number: \"))\n",
        "num3 = float(input(\"Enter the third number: \"))\n",
        "\n",
        "if num1 >= num2:\n",
        "    if num1 >= num3:\n",
        "        largest = num1\n",
        "    else:\n",
        "        largest = num3\n",
        "else:\n",
        "    if num2 >= num3:\n",
        "        largest = num2\n",
        "    else:\n",
        "        largest = num3\n",
        "\n",
        "print(\"The largest number is:\", largest)"
      ],
      "metadata": {
        "colab": {
          "base_uri": "https://localhost:8080/"
        },
        "id": "7M9Nx-p9dEsk",
        "outputId": "7a03b2fd-72e1-4bc1-954b-2dae69d499fe"
      },
      "execution_count": null,
      "outputs": [
        {
          "output_type": "stream",
          "name": "stdout",
          "text": [
            "Enter the first number: 8754\n",
            "Enter the second number: 4848\n",
            "Enter the third number: 4841\n",
            "The largest number is: 8754.0\n"
          ]
        }
      ]
    },
    {
      "cell_type": "markdown",
      "source": [
        "8. Develop a program that checks whether a character is a vowel or a consonant."
      ],
      "metadata": {
        "id": "DXbFDGWrdxIq"
      }
    },
    {
      "cell_type": "code",
      "source": [
        "char = input(\"Enter a character: \")\n",
        "vowels = set(\"aeiouAEIOU\")\n",
        "if char in vowels:\n",
        "  print(\"It is a vowel.\")\n",
        "else:\n",
        "  print(\"It is a consonant.\")"
      ],
      "metadata": {
        "colab": {
          "base_uri": "https://localhost:8080/"
        },
        "id": "5D02gx7sdrm2",
        "outputId": "f1efe6c2-6129-4371-da52-26d31e0e7f86"
      },
      "execution_count": null,
      "outputs": [
        {
          "output_type": "stream",
          "name": "stdout",
          "text": [
            "Enter a character: m\n",
            "It is a consonant.\n"
          ]
        }
      ]
    },
    {
      "cell_type": "markdown",
      "source": [
        "9. Create a program to calculate the total cost of a shopping cart based on discounts."
      ],
      "metadata": {
        "id": "UpCkmFT6eF7d"
      }
    },
    {
      "cell_type": "code",
      "source": [
        "purchase_amount = float(input(\"Enter the purchase amount: $\"))\n",
        "if purchase_amount < 50:\n",
        "    discount_rate = 0\n",
        "elif purchase_amount < 100:\n",
        "    discount_rate = 0.1\n",
        "elif purchase_amount < 200:\n",
        "    discount_rate = 0.15\n",
        "else:\n",
        "    discount_rate = 0.2\n",
        "\n",
        "discounted_price = purchase_amount - (purchase_amount * discount_rate)\n",
        "print(f\"Original Price: ${purchase_amount:.2f}\")\n",
        "print(f\"Discount Rate: {discount_rate * 100}%\")\n",
        "print(f\"Discounted Price: ${discounted_price:.2f}\")"
      ],
      "metadata": {
        "colab": {
          "base_uri": "https://localhost:8080/"
        },
        "id": "hKFmOsTGeAiT",
        "outputId": "f9fb2c3f-7a7e-4099-ce40-ff4ce02ef52d"
      },
      "execution_count": null,
      "outputs": [
        {
          "output_type": "stream",
          "name": "stdout",
          "text": [
            "Enter the purchase amount: $120\n",
            "Original Price: $120.00\n",
            "Discount Rate: 15.0%\n",
            "Discounted Price: $102.00\n"
          ]
        }
      ]
    },
    {
      "cell_type": "markdown",
      "source": [
        "10. Write a program that checks if a given number is even or odd."
      ],
      "metadata": {
        "id": "mWi4-z3remPV"
      }
    },
    {
      "cell_type": "code",
      "source": [
        "def odd_or_even(num):\n",
        "  if num % 2 == 0:\n",
        "    print(\"Even number.\")\n",
        "  else:\n",
        "    print(\"Odd number.\")\n",
        "\n",
        "given_num = 85156\n",
        "odd_or_even(given_num)"
      ],
      "metadata": {
        "colab": {
          "base_uri": "https://localhost:8080/"
        },
        "id": "4twjcZ08eg_h",
        "outputId": "ddb7e257-834c-423f-fafa-09d619e53947"
      },
      "execution_count": null,
      "outputs": [
        {
          "output_type": "stream",
          "name": "stdout",
          "text": [
            "Even number.\n"
          ]
        }
      ]
    },
    {
      "cell_type": "markdown",
      "source": [
        "# **Intermediate Level:**"
      ],
      "metadata": {
        "id": "4-1IYT8Be2z_"
      }
    },
    {
      "cell_type": "markdown",
      "source": [
        "11. Write a program that calculates the roots of a quadratic equation ."
      ],
      "metadata": {
        "id": "bM1J7Yave6-Q"
      }
    },
    {
      "cell_type": "code",
      "source": [
        "import math\n",
        "\n",
        "a = float(input(\"Enter the coefficient 'a': \"))\n",
        "b = float(input(\"Enter the coefficient 'b': \"))\n",
        "c = float(input(\"Enter the coefficient 'c': \"))\n",
        "\n",
        "discriminant = b**2 - 4*a*c\n",
        "\n",
        "if discriminant > 0:\n",
        "    root1 = (-b + math.sqrt(discriminant)) / (2*a)\n",
        "    root2 = (-b - math.sqrt(discriminant)) / (2*a)\n",
        "    print(f\"Two distinct real roots: Root1 = {root1}, Root2 = {root2}\")\n",
        "elif discriminant == 0:\n",
        "    root1 = root2 = -b / (2*a)\n",
        "    print(f\"One real root: Root1 = Root2 = {root1}\")\n",
        "else:\n",
        "    real_part = -b / (2*a)\n",
        "    imaginary_part = math.sqrt(abs(discriminant)) / (2*a)\n",
        "    print(f\"Complex roots: Root1 = {real_part} + {imaginary_part}i, Root2 = {real_part} - {imaginary_part}i\")"
      ],
      "metadata": {
        "colab": {
          "base_uri": "https://localhost:8080/"
        },
        "id": "i9rhBY67ew4v",
        "outputId": "5c0ee2dd-5995-4a91-ae49-88a49d82ffa3"
      },
      "execution_count": null,
      "outputs": [
        {
          "output_type": "stream",
          "name": "stdout",
          "text": [
            "Enter the coefficient 'a': 1\n",
            "Enter the coefficient 'b': -3\n",
            "Enter the coefficient 'c': 1\n",
            "Two distinct real roots: Root1 = 2.618033988749895, Root2 = 0.3819660112501051\n"
          ]
        }
      ]
    },
    {
      "cell_type": "markdown",
      "source": [
        "12. Create a program that determines the day of the week based on the day number (1-7)."
      ],
      "metadata": {
        "id": "uQkxmd6f66S6"
      }
    },
    {
      "cell_type": "code",
      "source": [
        "def get_day_of_week(number):\n",
        "    days_of_week = [\"Monday\", \"Tuesday\", \"Wednesday\", \"Thursday\", \"Friday\", \"Saturday\", \"Sunday\"]\n",
        "\n",
        "    if 1 <= number <= 7:\n",
        "        print(f\"The day of the week is: {days_of_week[number - 1]}\")\n",
        "    else:\n",
        "        return print(\"Invalid input. Please enter a number between 1 and 7.\")\n",
        "\n",
        "user_input = int(input(\"Enter a number (1 for Monday, 2 for Tuesday, etc.): \"))\n",
        "day_of_week = get_day_of_week(user_input)"
      ],
      "metadata": {
        "colab": {
          "base_uri": "https://localhost:8080/"
        },
        "id": "Tt0CV6Q65EEH",
        "outputId": "cc4c00ad-a321-4444-9385-6f38c236aa1a"
      },
      "execution_count": null,
      "outputs": [
        {
          "output_type": "stream",
          "name": "stdout",
          "text": [
            "Enter a number (1 for Monday, 2 for Tuesday, etc.): 6\n",
            "The day of the week is: Saturday\n"
          ]
        }
      ]
    },
    {
      "cell_type": "markdown",
      "source": [
        "13. Develop a program that calculates the factorial of a given number using recursion."
      ],
      "metadata": {
        "id": "viArmXEg7Lob"
      }
    },
    {
      "cell_type": "code",
      "source": [
        "def factorial(n):\n",
        "\n",
        "    if n == 0:\n",
        "        return 1\n",
        "\n",
        "    return n * factorial(n-1)\n",
        "\n",
        "num = 5;\n",
        "print(\"Factorial of\", num, \"is\", factorial(num))"
      ],
      "metadata": {
        "colab": {
          "base_uri": "https://localhost:8080/"
        },
        "id": "G4eY031k7Gg1",
        "outputId": "c2fbd94d-2897-4fd2-96c2-c7c88bb34d2d"
      },
      "execution_count": null,
      "outputs": [
        {
          "output_type": "stream",
          "name": "stdout",
          "text": [
            "Factorial of 5 is 120\n"
          ]
        }
      ]
    },
    {
      "cell_type": "markdown",
      "source": [
        "14. Write a program to find the largest among three numbers without using the `max()` function."
      ],
      "metadata": {
        "id": "Nyl0iEcH7un7"
      }
    },
    {
      "cell_type": "code",
      "source": [
        "num1 = float(input(\"Enter the first number: \"))\n",
        "num2 = float(input(\"Enter the second number: \"))\n",
        "num3 = float(input(\"Enter the third number: \"))\n",
        "\n",
        "if num1 >= num2:\n",
        "    if num1 >= num3:\n",
        "        largest = num1\n",
        "    else:\n",
        "        largest = num3\n",
        "else:\n",
        "    if num2 >= num3:\n",
        "        largest = num2\n",
        "    else:\n",
        "        largest = num3\n",
        "\n",
        "print(\"The largest number is:\", largest)"
      ],
      "metadata": {
        "colab": {
          "base_uri": "https://localhost:8080/"
        },
        "id": "nEKl49t77o9V",
        "outputId": "8175feda-8c1d-45fc-d15d-a3d60894179d"
      },
      "execution_count": null,
      "outputs": [
        {
          "output_type": "stream",
          "name": "stdout",
          "text": [
            "Enter the first number: 848\n",
            "Enter the second number: 958\n",
            "Enter the third number: 1289\n",
            "The largest number is: 1289.0\n"
          ]
        }
      ]
    },
    {
      "cell_type": "markdown",
      "source": [
        "15. Create a program that simulates a basic ATM transaction menu."
      ],
      "metadata": {
        "id": "73kWT2ac8Rzs"
      }
    },
    {
      "cell_type": "code",
      "source": [
        "print(\"Welcome to our Bank!\")\n",
        "pin = int(input(\"Enter your 4 digit pin number: \"))\n",
        "m = 25000\n",
        "if(pin == 1234):\n",
        "  print(\"1-Withdraw\")\n",
        "  print(\"2-Balance Enquiry\")\n",
        "  print(\"3-Fast Cash\")\n",
        "  c = int(input(\"Please choose transactions: \"))\n",
        "  if (c == 1):\n",
        "    w=int(input(\"Enter withdraw amount: \"))\n",
        "    if (w < m and w%100 == 0):\n",
        "      print(\"Please take your amount:\", w)\n",
        "    else:\n",
        "      print(\"Invalid cash\")\n",
        "\n",
        "  elif(c==2):\n",
        "    print(\"Your available amount : \",m)\n",
        "\n",
        "  elif (c == 3):\n",
        "    print(\"1->5,000\")\n",
        "    print(\"2->10,000\")\n",
        "    print(\"3->15,000\")\n",
        "    print(\"4->20,000\")\n",
        "    f = int(input(\"Enter fast cash option: \"))\n",
        "    if (f == 1 and 5000 < m):\n",
        "      print(\"please take cash 5000\")\n",
        "    elif (f == 2 and 10000 < m):\n",
        "      print(\"please take cash 10000\")\n",
        "    elif (f == 3 and 15000 < m):\n",
        "      print(\"please take cash 15000\")\n",
        "    elif (f == 4 and 20000 < m):\n",
        "      print(\"please take cash 20000\")\n",
        "    else:\n",
        "      print(\"Invalid fast cash option\")\n",
        "  else:\n",
        "    print(\"Wrong choice\")\n",
        "else:\n",
        "  print(\"Wrong pin number\")"
      ],
      "metadata": {
        "colab": {
          "base_uri": "https://localhost:8080/"
        },
        "id": "BcpHlBfi8KmL",
        "outputId": "5fa192a6-e002-4551-8767-45b4aa53e0e4"
      },
      "execution_count": null,
      "outputs": [
        {
          "output_type": "stream",
          "name": "stdout",
          "text": [
            "Welcome to our Bank!\n",
            "Enter your 4 digit pin number: 1234\n",
            "1-Withdraw\n",
            "2-Balance Enquiry\n",
            "3-Fast Cash\n",
            "Please choose transactions: 1\n",
            "Enter withdraw amount: 5000\n",
            "Please take your amount: 5000\n"
          ]
        }
      ]
    },
    {
      "cell_type": "markdown",
      "source": [
        "16. Build a program that checks if a given string is a palindrome or not."
      ],
      "metadata": {
        "id": "HzgTjckvBxY4"
      }
    },
    {
      "cell_type": "code",
      "source": [
        "s = input(\"Enter a string: \")\n",
        "temp_string = s[::-1]\n",
        "if(temp_string == s):\n",
        "    print(\"Yes the string is palindrome.\")\n",
        "else:\n",
        "    print(\"No the string is not palindrome.\")"
      ],
      "metadata": {
        "colab": {
          "base_uri": "https://localhost:8080/"
        },
        "id": "xi1yY9-CBjrr",
        "outputId": "915022f3-55ac-4f2b-d257-5ede52dc0555"
      },
      "execution_count": null,
      "outputs": [
        {
          "output_type": "stream",
          "name": "stdout",
          "text": [
            "Enter a string: abccba\n",
            "Yes the string is palindrome.\n"
          ]
        }
      ]
    },
    {
      "cell_type": "markdown",
      "source": [
        "17. Write a program that calculates the average of a list of numbers, excluding the smallest and largest values."
      ],
      "metadata": {
        "id": "_eSK21vXCNOo"
      }
    },
    {
      "cell_type": "code",
      "source": [
        "nums = [float(x) for x in input(\"Enter numbers separated by spaces: \").split()]\n",
        "\n",
        "if len(nums) >= 3:\n",
        "    nums.sort()\n",
        "    nums = nums[1:-1]\n",
        "\n",
        "    average = sum(nums) / len(nums)\n",
        "    print(\"Average (excluding the smallest and largest numbers) = \", average)\n",
        "else:\n",
        "    print(\"Please enter at least three numbers.\")"
      ],
      "metadata": {
        "id": "-OP_q_OoCB9a",
        "colab": {
          "base_uri": "https://localhost:8080/"
        },
        "outputId": "d7614168-7669-4dce-cc91-ef9e401415a5"
      },
      "execution_count": null,
      "outputs": [
        {
          "output_type": "stream",
          "name": "stdout",
          "text": [
            "Enter numbers separated by spaces: 8 2 7 5 3 6\n",
            "Average (excluding the smallest and largest numbers) =  5.25\n"
          ]
        }
      ]
    },
    {
      "cell_type": "markdown",
      "source": [
        "18. Develop a program that converts a given temperature from Celsius to Fahrenheit."
      ],
      "metadata": {
        "id": "CLUPlLncMW4f"
      }
    },
    {
      "cell_type": "code",
      "source": [
        "celsius = float(input(\"Enter temperature in Celsius: \"))\n",
        "\n",
        "fahrenheit = (celsius * 9/5) + 32\n",
        "\n",
        "print(\"Temperature in Fahrenheit:\", fahrenheit)"
      ],
      "metadata": {
        "colab": {
          "base_uri": "https://localhost:8080/"
        },
        "id": "Gi-lj0SBLxAO",
        "outputId": "c49f46a7-58ad-449d-a2f7-fa5c0e9b7c6d"
      },
      "execution_count": null,
      "outputs": [
        {
          "output_type": "stream",
          "name": "stdout",
          "text": [
            "Enter temperature in Celsius: 37\n",
            "Temperature in Fahrenheit: 98.6\n"
          ]
        }
      ]
    },
    {
      "cell_type": "markdown",
      "source": [
        "19. Create a program that simulates a basic calculator for addition, subtraction, multiplication, and division."
      ],
      "metadata": {
        "id": "EYJyMj34M153"
      }
    },
    {
      "cell_type": "code",
      "source": [
        "num1 = float(input(\"Enter first number: \"))\n",
        "num2 = float(input(\"Enter second number: \"))\n",
        "operation = input(\"Enter operation (+, -, *, /): \")\n",
        "\n",
        "if operation == '+':\n",
        "    result = num1 + num2\n",
        "elif operation == '-':\n",
        "    result = num1 - num2\n",
        "elif operation == '*':\n",
        "    result = num1 * num2\n",
        "elif operation == '/':\n",
        "    if num2 != 0:\n",
        "        result = num1 / num2\n",
        "    else:\n",
        "        result = \"Cannot divide by zero\"\n",
        "else:\n",
        "    result = \"Invalid operation\"\n",
        "\n",
        "print(\"Result:\", result)"
      ],
      "metadata": {
        "colab": {
          "base_uri": "https://localhost:8080/"
        },
        "id": "jJr8qXPyMeS0",
        "outputId": "4e59dc07-157c-4e95-8b88-97bcadd65ef3"
      },
      "execution_count": null,
      "outputs": [
        {
          "output_type": "stream",
          "name": "stdout",
          "text": [
            "Enter first number: 87\n",
            "Enter second number: 56\n",
            "Enter operation (+, -, *, /): -\n",
            "Result: 31.0\n"
          ]
        }
      ]
    },
    {
      "cell_type": "markdown",
      "source": [
        "20. Write a program that determines the roots of a cubic equation using the Cardano formula."
      ],
      "metadata": {
        "id": "6OYkOikuNUvT"
      }
    },
    {
      "cell_type": "code",
      "source": [
        "a = float(input(\"Enter coefficient a: \"))\n",
        "b = float(input(\"Enter coefficient b: \"))\n",
        "c = float(input(\"Enter coefficient c: \"))\n",
        "d = float(input(\"Enter coefficient d: \"))\n",
        "\n",
        "# Calculate intermediate values\n",
        "p = c/a - (b**2)/(3*a**2)\n",
        "q = (2*b**3)/(27*a**3) - (b*c)/(3*a**2) + d/a\n",
        "\n",
        "# Calculate discriminant\n",
        "discriminant = (q**2)/4 + (p**3)/27\n",
        "\n",
        "# Calculate roots based on discriminant\n",
        "if discriminant > 0:\n",
        "    root1 = (-q/2 + discriminant**0.5)**(1/3) + (-q/2 - discriminant**0.5)**(1/3) - b/(3*a)\n",
        "    print(\"One real root:\", root1)\n",
        "elif discriminant == 0:\n",
        "    root1 = -q/2**(1/3) - b/(3*a)\n",
        "    root2 = -(2**0.5)*root1 - b/(3*a)\n",
        "    root3 = (2**0.5)*root1 - b/(3*a)\n",
        "    print(\"Three real roots:\", root1, \",\", root2, \",\", root3)\n",
        "else:\n",
        "    real_part = -q/2**(1/3)\n",
        "    imaginary_part = (3**0.5/2)*(discriminant**0.5)\n",
        "    root1 = (real_part + imaginary_part)**(1/3) + (real_part - imaginary_part)**(1/3) - b/(3*a)\n",
        "    print(\"One real root and two complex roots:\", root1)"
      ],
      "metadata": {
        "colab": {
          "base_uri": "https://localhost:8080/"
        },
        "id": "trbaj3fDNN8j",
        "outputId": "ab00469d-a028-4823-8083-86b70c798e3c"
      },
      "execution_count": null,
      "outputs": [
        {
          "output_type": "stream",
          "name": "stdout",
          "text": [
            "Enter coefficient a: 3\n",
            "Enter coefficient b: 2\n",
            "Enter coefficient c: 2\n",
            "Enter coefficient d: 1\n",
            "One real root: (0.3662090261103971+0.530314547660287j)\n"
          ]
        }
      ]
    },
    {
      "cell_type": "markdown",
      "source": [
        "# **Advanced Level:**"
      ],
      "metadata": {
        "id": "gU6eKOAUP3UI"
      }
    },
    {
      "cell_type": "markdown",
      "source": [
        "21. Create a program that calculates the income tax based on the user's income and tax brackets."
      ],
      "metadata": {
        "id": "GQROURJUQBCO"
      }
    },
    {
      "cell_type": "code",
      "source": [
        "income = float(input(\"Enter your income: \"))\n",
        "\n",
        "# Define tax brackets and rates\n",
        "brackets = [10000, 30000, 70000, 100000]\n",
        "rates = [0.1, 0.2, 0.3, 0.4, 0.5]\n",
        "\n",
        "# Calculate income tax based on tax brackets\n",
        "tax = 0\n",
        "remaining_income = income\n",
        "for i in range(len(brackets)):\n",
        "    if remaining_income <= 0:\n",
        "        break\n",
        "    if i == len(brackets) - 1 or remaining_income <= brackets[i+1]:\n",
        "        tax += remaining_income * rates[i]\n",
        "    else:\n",
        "        tax += brackets[i] * rates[i]\n",
        "        remaining_income -= brackets[i]\n",
        "\n",
        "print(\"Income tax:\", tax)"
      ],
      "metadata": {
        "colab": {
          "base_uri": "https://localhost:8080/"
        },
        "id": "gvmYtIA-Peo3",
        "outputId": "3537e4ab-3172-4695-d7b1-8e024814b2fb"
      },
      "execution_count": null,
      "outputs": [
        {
          "output_type": "stream",
          "name": "stdout",
          "text": [
            "Enter your income: 50000\n",
            "Income tax: 37000.0\n"
          ]
        }
      ]
    },
    {
      "cell_type": "markdown",
      "source": [
        "22. Write a program that simulates a rock-paper-scissors game against the computer."
      ],
      "metadata": {
        "id": "2-XP70pwa3aj"
      }
    },
    {
      "cell_type": "code",
      "source": [
        "import random\n",
        "rock = '''\n",
        "    _______\n",
        "---'   ____)\n",
        "      (_____)\n",
        "      (_____)\n",
        "      (____)\n",
        "---.__(___)\n",
        "'''\n",
        "\n",
        "paper = '''\n",
        "    _______\n",
        "---'   ____)____\n",
        "          ______)\n",
        "          _______)\n",
        "         _______)\n",
        "---.__________)\n",
        "'''\n",
        "\n",
        "scissors = '''\n",
        "    _______\n",
        "---'   ____)____\n",
        "          ______)\n",
        "       __________)\n",
        "      (____)\n",
        "---.__(___)\n",
        "'''\n",
        "game_images = [rock, paper, scissors]\n",
        "\n",
        "choice_of_user = int(input(\"What do you choose? Type 0 for Rock, 1 for Paper & 2 for Scissors\\n\"))\n",
        "if choice_of_user >= 3 or choice_of_user < 0:\n",
        "  print(\"You typed a invailid number. You Lose!\")\n",
        "else:\n",
        "  print(game_images[choice_of_user])\n",
        "\n",
        "  choice_of_computer = random.randint(0,2)\n",
        "  print(f\"Computer chose: {game_images[choice_of_computer]}\")\n",
        "\n",
        "\n",
        "  if choice_of_user == 0 and choice_of_computer == 2:\n",
        "    print(\"You Win!\")\n",
        "  elif choice_of_user == 2 and choice_of_computer == 0:\n",
        "    print(\"You Lose!\")\n",
        "  elif choice_of_computer > choice_of_user:\n",
        "    print(\"You Lose!\")\n",
        "  elif choice_of_computer < choice_of_user:\n",
        "    print(\"You Win!\")\n",
        "  elif choice_of_computer == choice_of_user:\n",
        "    print(\"It's a Draw!\")"
      ],
      "metadata": {
        "id": "YuqUeOJspVX_",
        "colab": {
          "base_uri": "https://localhost:8080/"
        },
        "outputId": "e6bda40f-aba4-4c70-ba69-9838d7400080"
      },
      "execution_count": 3,
      "outputs": [
        {
          "output_type": "stream",
          "name": "stdout",
          "text": [
            "What do you choose? Type 0 for Rock, 1 for Paper & 2 for Scissors\n",
            "0\n",
            "\n",
            "    _______\n",
            "---'   ____)\n",
            "      (_____)\n",
            "      (_____)\n",
            "      (____)\n",
            "---.__(___)\n",
            "\n",
            "Computer chose: \n",
            "    _______\n",
            "---'   ____)\n",
            "      (_____)\n",
            "      (_____)\n",
            "      (____)\n",
            "---.__(___)\n",
            "\n",
            "It's a Draw!\n"
          ]
        }
      ]
    },
    {
      "cell_type": "markdown",
      "source": [
        "23. Develop a program that generates a random password based on user preferences (length, complexity)."
      ],
      "metadata": {
        "id": "-Wd4OK-Qbbce"
      }
    },
    {
      "cell_type": "code",
      "source": [
        "import random\n",
        "import string\n",
        "\n",
        "length = int(input(\"Enter the length of the password: \"))\n",
        "complexity = input(\"Enter complexity (easy, medium, strong): \").lower()\n",
        "\n",
        "if complexity == 'easy':\n",
        "    characters = string.ascii_letters + string.digits\n",
        "elif complexity == 'medium':\n",
        "    characters = string.ascii_letters + string.digits + string.punctuation\n",
        "elif complexity == 'strong':\n",
        "    characters = string.ascii_letters + string.digits + string.punctuation + string.ascii_letters.upper()\n",
        "else:\n",
        "    print(\"Invalid complexity choice.\")\n",
        "    exit()\n",
        "\n",
        "password = ''.join(random.choice(characters) for i in range(length))\n",
        "print(\"Generated password: \", password)"
      ],
      "metadata": {
        "colab": {
          "base_uri": "https://localhost:8080/"
        },
        "id": "BZYscwZAbRgv",
        "outputId": "453f83e7-3cde-4761-ac96-353b79b209db"
      },
      "execution_count": 2,
      "outputs": [
        {
          "output_type": "stream",
          "name": "stdout",
          "text": [
            "Enter the length of the password: 6\n",
            "Enter complexity (easy, medium, strong): strong\n",
            "Generated password:  Y!_UY<\n"
          ]
        }
      ]
    },
    {
      "cell_type": "markdown",
      "source": [
        "24. Create a program that implements a simple text-based adventure game with branching scenarios."
      ],
      "metadata": {
        "id": "Z1CHrVZac_O2"
      }
    },
    {
      "cell_type": "code",
      "source": [
        "print(\"Welcome to Treasure Island.\")\n",
        "print(\"Your mission is to find the treasure.\")\n",
        "\n",
        "first_choice = input('You are at a cross road. Which direction you want to go? \"Right\" or \"Left\"?\\n').lower()\n",
        "if first_choice == \"right\":\n",
        "  print(\"You walked right into an ambush! You're dead! Game Over!\")\n",
        "elif first_choice == \"left\":\n",
        "  second_choice = input('You come to a lake. There is an island middle of the lake. Type \"Wait\" to wait for a boat. Type \"Swim\" to swim across.\\n').lower()\n",
        "  if second_choice == \"wait\":\n",
        "    door_choice = input('You arrive at the island unharmed. There is a house with 3 doors. \"Red\", \"Yellow\" or \"Blue\" which color do you choose?\\n').lower()\n",
        "    if door_choice == \"yellow\":\n",
        "      print(\"Congratulations! You have found the treasure!\")\n",
        "    elif door_choice == \"red\":\n",
        "      print(\"Burned by fire! Game Over!\")\n",
        "    elif door_choice == \"blue\":\n",
        "      print(\"Eaten by beasts! Game Over!\")\n",
        "  else:\n",
        "    print(\"Attacked by crocodiles. Game Over!\")\n",
        ""
      ],
      "metadata": {
        "colab": {
          "base_uri": "https://localhost:8080/"
        },
        "id": "CBhc35b8cq81",
        "outputId": "85cf3638-49f8-452a-d707-35d6cf96fb62"
      },
      "execution_count": 4,
      "outputs": [
        {
          "output_type": "stream",
          "name": "stdout",
          "text": [
            "Welcome to Treasure Island.\n",
            "Your mission is to find the treasure.\n",
            "You are at a cross road. Which direction you want to go? \"Right\" or \"Left\"?\n",
            "left\n",
            "You come to a lake. There is an island middle of the lake. Type \"Wait\" to wait for a boat. Type \"Swim\" to swim across.\n",
            "swim\n",
            "Attacked by crocodiles. Game Over!\n"
          ]
        }
      ]
    },
    {
      "cell_type": "markdown",
      "source": [
        "25. Build a program that solves a linear equation for x, considering different cases."
      ],
      "metadata": {
        "id": "vgS-LzKXhPps"
      }
    },
    {
      "cell_type": "code",
      "source": [
        "def solveEquation(equation) :\n",
        "\tn = len(equation)\n",
        "\tsign = 1\n",
        "\tcoeff = 0\n",
        "\ttotal = 0\n",
        "\ti = 0\n",
        "\n",
        "\t# Traverse the equation\n",
        "\tfor j in range(0, n) :\n",
        "\n",
        "\t\tif (equation[j] == '+' or\n",
        "\t\t\tequation[j] == '-') :\n",
        "\n",
        "\t\t\tif (j > i) :\n",
        "\t\t\t\ttotal = (total + sign * int(equation[i: j]))\n",
        "\t\t\ti = j\n",
        "\n",
        "\t\t# For cases such as: x, -x, +x\n",
        "\t\telif (equation[j] == 'x') :\n",
        "\n",
        "\t\t\tif ((i == j) or\n",
        "\t\t\t\tequation[j - 1] == '+') :\n",
        "\t\t\t\tcoeff += sign\n",
        "\t\t\telif (equation[j - 1] == '-') :\n",
        "\t\t\t\tcoeff = coeff - sign\n",
        "\t\t\telse :\n",
        "\t\t\t\tcoeff = (coeff + sign * int(equation[i: j]))\n",
        "\t\t\ti = j + 1\n",
        "\n",
        "\t\t# Flip sign once '=' is seen\n",
        "\t\telif (equation[j] == '=') :\n",
        "\n",
        "\t\t\tif (j > i) :\n",
        "\t\t\t\ttotal = (total + sign * int(equation[i: j]))\n",
        "\t\t\tsign = -1\n",
        "\t\t\ti = j + 1\n",
        "\n",
        "\t# There may be a number left in the end\n",
        "\tif (i < n) :\n",
        "\t\ttotal = (total + sign *\n",
        "\t\t\t\tint(equation[i: len(equation)]))\n",
        "\n",
        "\t# For infinite solutions\n",
        "\tif (coeff == 0 and total == 0) :\n",
        "\t\treturn \"Infinite solutions\"\n",
        "\n",
        "\t# For no solution\n",
        "\tif (coeff == 0 and total) :\n",
        "\t\treturn \"No solution\"\n",
        "\n",
        "\tans = -total / coeff\n",
        "\treturn int(ans)\n",
        "\n",
        "equation = input(\"Enter a linear equation for x(e.g.:- 'x + 5 - 3 + x = 6 + x - 2'): \")\n",
        "print (\"x = {}\" .\n",
        "\t\tformat(solveEquation(equation)))"
      ],
      "metadata": {
        "colab": {
          "base_uri": "https://localhost:8080/"
        },
        "id": "-jc55TbWhC8u",
        "outputId": "b84fb03a-17c9-47b5-d9a4-905c54beaafd"
      },
      "execution_count": 6,
      "outputs": [
        {
          "output_type": "stream",
          "name": "stdout",
          "text": [
            "Enter a linear equation for x(e.g.:- 'x + 5 - 3 + x = 6 + x - 2'): 4x-19=x+77-91\n",
            "x = 1\n"
          ]
        }
      ]
    },
    {
      "cell_type": "markdown",
      "source": [
        "26. Write a program that simulates a basic quiz game with multiple-choice questions and scoring."
      ],
      "metadata": {
        "id": "kYA-Cpa3kT-Y"
      }
    },
    {
      "cell_type": "code",
      "source": [
        "print(\"Wellcome to quiz game !!\")\n",
        "print('NOTE: if your spelling is incorrect then it is considered as wrong answer')\n",
        "score = 0\n",
        "question_no = 0\n",
        "playing = input('Do you want to play? (Yes/No) ').lower()\n",
        "if playing == 'yes':\n",
        "    question_no += 1\n",
        "    ques = input(f'\\n{question_no}. What Indian city is the capital of two states? Options: \"Chandigarh\",\"Kolkata\",\"Delhi\",\"Bangalore\"  ').lower()\n",
        "    if ques == 'chandigarh':\n",
        "        score +=1\n",
        "        print('Correct! You got 1 point')\n",
        "\n",
        "    else:\n",
        "        print('Incorrect!')\n",
        "        print(f'Correct answer is --> chandigarh')\n",
        "\n",
        "# ------1\n",
        "    question_no += 1\n",
        "    ques = input(f'\\n{question_no}. Which city is the capital of India? Options: \"Jaipur\",\"Mumbai\",\"Delhi\",\"Kolkata\"  ').lower()\n",
        "\n",
        "    if ques == 'delhi':\n",
        "        score +=1\n",
        "        print('Correct! You got 1 point')\n",
        "\n",
        "    else:\n",
        "        print('Incorrect!')\n",
        "        print(f'Correct answer is --> delhi')\n",
        "\n",
        "# -----2\n",
        "    question_no += 1\n",
        "    ques = input(f'\\n{question_no}. Smallest State of India? Options: \"Rajasthan\",\"Punjab\",\"Goa\",\"Bihar\"  ').lower()\n",
        "\n",
        "    if ques == 'goa':\n",
        "        score +=1\n",
        "        print('Correct! You got 1 point')\n",
        "\n",
        "    else:\n",
        "        print('Incorrect!')\n",
        "        print(f'Correct answer is --> goa')\n",
        "\n",
        "# -----3\n",
        "    question_no += 1\n",
        "    ques = input(f'\\n{question_no}. Where is Taj Mahal Located? Options: \"Lucknow\",\"Agra\",\"Delhi\",\"Bhopal\"  ').lower()\n",
        "\n",
        "    if ques == 'agra':\n",
        "        score +=1\n",
        "        print('Correct! You got 1 point')\n",
        "\n",
        "    else:\n",
        "        print('Incorrect!')\n",
        "        print(f'Correct answer is --> agra')\n",
        "\n",
        "\n",
        "else:\n",
        "    print('Thank you, you are out of the game.')\n",
        "    quit()\n",
        "\n",
        "print(f'Number of question is {question_no}')\n",
        "print(f'Your score is {score}')\n",
        "try:\n",
        "    percentage = (score *100)/question_no\n",
        "except ZeroDivisionError:\n",
        "    print('0% quetions are correct')\n",
        "\n",
        "print(f'{percentage}% questions are correct.')"
      ],
      "metadata": {
        "colab": {
          "base_uri": "https://localhost:8080/"
        },
        "id": "BObE8yz1izaG",
        "outputId": "d94180a2-6c8e-429b-c666-d760a56c9307"
      },
      "execution_count": 9,
      "outputs": [
        {
          "output_type": "stream",
          "name": "stdout",
          "text": [
            "Wellcome to quiz game !!\n",
            "NOTE: if your spelling is incorrect then it is considered as wrong answer\n",
            "Do you want to play? (Yes/No) yes\n",
            "\n",
            "1. What Indian city is the capital of two states? Options: \"Chandigarh\",\"Kolkata\",\"Delhi\",\"Bangalore\"  chandigarh\n",
            "Correct! You got 1 point\n",
            "\n",
            "2. Which city is the capital of India? Options: \"Jaipur\",\"Mumbai\",\"Delhi\",\"Kolkata\"  delhi\n",
            "Correct! You got 1 point\n",
            "\n",
            "3. Smallest State of India? Options: \"Rajasthan\",\"Punjab\",\"Goa\",\"Bihar\"  goa\n",
            "Correct! You got 1 point\n",
            "\n",
            "4. Where is Taj Mahal Located? Options: \"Lucknow\",\"Agra\",\"Delhi\",\"Bhopal\"  agra\n",
            "Correct! You got 1 point\n",
            "Number of question is 4\n",
            "Your score is 4\n",
            "100.0% questions are correct.\n"
          ]
        }
      ]
    },
    {
      "cell_type": "markdown",
      "source": [
        "27. Develop a program that determines whether a given year is a prime number or not."
      ],
      "metadata": {
        "id": "a28BNHFMoJ7L"
      }
    },
    {
      "cell_type": "code",
      "source": [
        "year = int(input(\"Enter a year: \"))\n",
        "\n",
        "def prime_checker(year):\n",
        "    is_prime = True\n",
        "    for i in range(2,year):\n",
        "        if year % i == 0:\n",
        "            is_prime = False\n",
        "    if is_prime == True:\n",
        "        print(year, \"is a prime number.\")\n",
        "    else:\n",
        "        print(year, \"is not a prime number.\")\n",
        "\n",
        "prime_checker(year)"
      ],
      "metadata": {
        "colab": {
          "base_uri": "https://localhost:8080/"
        },
        "id": "aI18nomynlmD",
        "outputId": "4d1deec5-51a6-47b8-fd48-def3e4d3f109"
      },
      "execution_count": 14,
      "outputs": [
        {
          "output_type": "stream",
          "name": "stdout",
          "text": [
            "Enter a year: 2001\n",
            "2001 is not a prime number.\n"
          ]
        }
      ]
    },
    {
      "cell_type": "markdown",
      "source": [
        "28. Create a program that sorts three numbers in ascending order using conditional statements."
      ],
      "metadata": {
        "id": "8-BFNZB7pHbQ"
      }
    },
    {
      "cell_type": "code",
      "source": [
        "a = float(input(\"Enter a: \"))\n",
        "b = float(input(\"Enter b: \"))\n",
        "c = float(input(\"Enter c: \"))\n",
        "\n",
        "if a > b:\n",
        "    a,b = b,a\n",
        "if a > c:\n",
        "    a,c = c,a\n",
        "if b > c:\n",
        "    b,c = c,b\n",
        "\n",
        "print (a, \"<\", b, \"<\", c)"
      ],
      "metadata": {
        "colab": {
          "base_uri": "https://localhost:8080/"
        },
        "id": "PJFYfPDdoPWF",
        "outputId": "0a353ca0-bc06-4f74-e4da-10f9507d8ad5"
      },
      "execution_count": 1,
      "outputs": [
        {
          "output_type": "stream",
          "name": "stdout",
          "text": [
            "Enter a: 15\n",
            "Enter b: 28\n",
            "Enter c: 5\n",
            "5.0 < 15.0 < 28.0\n"
          ]
        }
      ]
    },
    {
      "cell_type": "markdown",
      "source": [
        "29. Build a program that determines the roots of a quartic equation using numerical methods."
      ],
      "metadata": {
        "id": "pM6B2uRnnl2r"
      }
    },
    {
      "cell_type": "code",
      "source": [
        "import math\n",
        "\n",
        "a = float(input(\"Enter the coefficient 'a': \"))\n",
        "b = float(input(\"Enter the coefficient 'b': \"))\n",
        "c = float(input(\"Enter the coefficient 'c': \"))\n",
        "\n",
        "discriminant = b**2 - 4*a*c\n",
        "\n",
        "if discriminant > 0:\n",
        "    root1 = (-b + math.sqrt(discriminant)) / (2*a)\n",
        "    root2 = (-b - math.sqrt(discriminant)) / (2*a)\n",
        "    print(f\"Two distinct real roots: Root1 = {root1}, Root2 = {root2}\")\n",
        "elif discriminant == 0:\n",
        "    root1 = root2 = -b / (2*a)\n",
        "    print(f\"One real root: Root1 = Root2 = {root1}\")\n",
        "else:\n",
        "    real_part = -b / (2*a)\n",
        "    imaginary_part = math.sqrt(abs(discriminant)) / (2*a)\n",
        "    print(f\"Complex roots: Root1 = {real_part} + {imaginary_part}i, Root2 = {real_part} - {imaginary_part}i\")"
      ],
      "metadata": {
        "colab": {
          "base_uri": "https://localhost:8080/"
        },
        "id": "O6M_S3xanP0P",
        "outputId": "41883ff2-e454-4359-c511-45423c9cdbb3"
      },
      "execution_count": 2,
      "outputs": [
        {
          "output_type": "stream",
          "name": "stdout",
          "text": [
            "Enter the coefficient 'a': -1\n",
            "Enter the coefficient 'b': 3\n",
            "Enter the coefficient 'c': 1\n",
            "Two distinct real roots: Root1 = -0.30277563773199456, Root2 = 3.302775637731995\n"
          ]
        }
      ]
    },
    {
      "cell_type": "markdown",
      "source": [
        "30. Write a program that calculates the BMI (Body Mass Index) and provides health recommendations based on the user's input."
      ],
      "metadata": {
        "id": "30i1Rl0EoptM"
      }
    },
    {
      "cell_type": "code",
      "source": [
        "weight = float(input(\"Enter your weight in kg: \"))\n",
        "height = float(input(\"Enter your height in meters: \"))\n",
        "\n",
        "bmi = weight / (height ** 2)\n",
        "\n",
        "if bmi < 18.5:\n",
        "    category = \"Underweight\"\n",
        "    recommendation = \"You may need to gain weight.\"\n",
        "elif 18.5 <= bmi < 24.9:\n",
        "    category = \"Normal\"\n",
        "    recommendation = \"You are in a healthy weight range.\"\n",
        "elif 24.9 <= bmi < 29.9:\n",
        "    category = \"Overweight\"\n",
        "    recommendation = \"You may need to lose weight.\"\n",
        "else:\n",
        "    category = \"Obese\"\n",
        "    recommendation = \"You should consult a healthcare professional.\"\n",
        "\n",
        "print(f\"Your BMI is {bmi:.2f} ({category}). {recommendation}\")"
      ],
      "metadata": {
        "colab": {
          "base_uri": "https://localhost:8080/"
        },
        "id": "S5428_Dnof20",
        "outputId": "41342009-c4e4-41a8-bb1a-7ab6dd76f1a4"
      },
      "execution_count": 4,
      "outputs": [
        {
          "output_type": "stream",
          "name": "stdout",
          "text": [
            "Enter your weight in kg: 48\n",
            "Enter your height in meters: 1.62\n",
            "Your BMI is 18.29 (Underweight). You may need to gain weight.\n"
          ]
        }
      ]
    },
    {
      "cell_type": "markdown",
      "source": [
        "# **Challenge Level**"
      ],
      "metadata": {
        "id": "VW5_WLlypEQS"
      }
    },
    {
      "cell_type": "markdown",
      "source": [
        "31. Create a program that validates a password based on complexity rules (length, characters, etc.)."
      ],
      "metadata": {
        "id": "PkgtHnYepMXy"
      }
    },
    {
      "cell_type": "code",
      "source": [
        "import re\n",
        "\n",
        "password = input(\"Enter a password: \")\n",
        "\n",
        "length_rule = len(password) >= 8\n",
        "uppercase_rule = any(char.isupper() for char in password)\n",
        "lowercase_rule = any(char.islower() for char in password)\n",
        "digit_rule = any(char.isdigit() for char in password)\n",
        "special_char_rule = re.search(r'[!@#$%^&*(),.?\":{}|<>]', password)\n",
        "\n",
        "if all([length_rule, uppercase_rule, lowercase_rule, digit_rule, special_char_rule]):\n",
        "    print(\"Password is valid.\")\n",
        "else:\n",
        "    print(\"Password is not valid. Please follow the complexity rules.\")"
      ],
      "metadata": {
        "colab": {
          "base_uri": "https://localhost:8080/"
        },
        "id": "FsI6V-qQo0Cb",
        "outputId": "4c7dc322-e1aa-42a6-c62b-a20092df69af"
      },
      "execution_count": 5,
      "outputs": [
        {
          "output_type": "stream",
          "name": "stdout",
          "text": [
            "Enter a password: Amit@123\n",
            "Password is valid.\n"
          ]
        }
      ]
    },
    {
      "cell_type": "markdown",
      "source": [
        "32. Develop a program that performs matrix addition and subtraction based on user input."
      ],
      "metadata": {
        "id": "-1b-bLCFp-qo"
      }
    },
    {
      "cell_type": "code",
      "source": [],
      "metadata": {
        "id": "Peo3xkOSpb3b"
      },
      "execution_count": null,
      "outputs": []
    }
  ]
}