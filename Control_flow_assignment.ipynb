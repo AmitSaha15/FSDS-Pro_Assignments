{
  "nbformat": 4,
  "nbformat_minor": 0,
  "metadata": {
    "colab": {
      "provenance": [],
      "authorship_tag": "ABX9TyMZWHgzDGL8MaR6Lg/PfjeV",
      "include_colab_link": true
    },
    "kernelspec": {
      "name": "python3",
      "display_name": "Python 3"
    },
    "language_info": {
      "name": "python"
    }
  },
  "cells": [
    {
      "cell_type": "markdown",
      "metadata": {
        "id": "view-in-github",
        "colab_type": "text"
      },
      "source": [
        "<a href=\"https://colab.research.google.com/github/AmitSaha15/FSDS-Pro_Assignments/blob/main/Control_flow_assignment.ipynb\" target=\"_parent\"><img src=\"https://colab.research.google.com/assets/colab-badge.svg\" alt=\"Open In Colab\"/></a>"
      ]
    },
    {
      "cell_type": "markdown",
      "source": [
        "# **Basic If-Else Statements:**"
      ],
      "metadata": {
        "id": "ifx8TezLfM-3"
      }
    },
    {
      "cell_type": "markdown",
      "source": [
        "1. Write a Python program to check if a given number is positive or negative."
      ],
      "metadata": {
        "id": "ud6gbHQ2feHz"
      }
    },
    {
      "cell_type": "code",
      "execution_count": null,
      "metadata": {
        "id": "89xc-YriU4pn",
        "colab": {
          "base_uri": "https://localhost:8080/"
        },
        "outputId": "7c64c8d0-ef3d-4790-9b17-4a092d692bcc"
      },
      "outputs": [
        {
          "output_type": "stream",
          "name": "stdout",
          "text": [
            "Enter any number: -4\n",
            "Negative number.\n"
          ]
        }
      ],
      "source": [
        "n = float(input(\"Enter any number: \"))\n",
        "if n<0:\n",
        "  print(\"Negative number.\")\n",
        "else:\n",
        "  print(\"Positive number.\")"
      ]
    },
    {
      "cell_type": "markdown",
      "source": [
        "2. Create a program that determines if a person is eligible to vote based on their age."
      ],
      "metadata": {
        "id": "ICY2_7qvgEPq"
      }
    },
    {
      "cell_type": "code",
      "source": [
        "age = int(input(\"Enter your age: \"))\n",
        "if age >= 18:\n",
        "  print(\"You are eligible to vote.\")\n",
        "else:\n",
        "  print(\"You are not eligible to vote.\")"
      ],
      "metadata": {
        "colab": {
          "base_uri": "https://localhost:8080/"
        },
        "id": "9SFhHZRVf3jC",
        "outputId": "90db0f19-18b2-4615-b568-8b729124abd0"
      },
      "execution_count": null,
      "outputs": [
        {
          "output_type": "stream",
          "name": "stdout",
          "text": [
            "Enter your age: 17\n",
            "You are not eligible to vote.\n"
          ]
        }
      ]
    },
    {
      "cell_type": "markdown",
      "source": [
        "3. Develop a program to find the maximum of two numbers using if-else statements."
      ],
      "metadata": {
        "id": "Wja3kWwIgm3t"
      }
    },
    {
      "cell_type": "code",
      "source": [
        "def max_of_two_nums(num1,num2):\n",
        "  if num1 > num2:\n",
        "    print(f\"{num1} is greater than {num2}.\")\n",
        "  else:\n",
        "    print(f\"{num2} is greater than {num1}.\")\n",
        "\n",
        "max_of_two_nums(499.5,256)"
      ],
      "metadata": {
        "colab": {
          "base_uri": "https://localhost:8080/"
        },
        "id": "qP3BWN0bgdwZ",
        "outputId": "91b8a07f-67f0-447e-8709-4dfaca58ffa5"
      },
      "execution_count": null,
      "outputs": [
        {
          "output_type": "stream",
          "name": "stdout",
          "text": [
            "499.5 is greater than 256.\n"
          ]
        }
      ]
    },
    {
      "cell_type": "markdown",
      "source": [
        "4. Write a Python script to classify a given year as a leap year or not."
      ],
      "metadata": {
        "id": "C_Jc3lvqiKVo"
      }
    },
    {
      "cell_type": "code",
      "source": [
        "year = int(input(\"Which year do you want to check? \"))\n",
        "true = \"This is a Leap year!\"\n",
        "false = \"This is not a Leap year!\"\n",
        "if year % 4 == 0:\n",
        "    if year % 100 ==0:\n",
        "        if year % 400 == 0:\n",
        "            print(true)\n",
        "        else:\n",
        "            print(false)\n",
        "    else:\n",
        "        print(true)\n",
        "else:\n",
        "    print(false)"
      ],
      "metadata": {
        "colab": {
          "base_uri": "https://localhost:8080/"
        },
        "id": "KlzNs1V5iCmg",
        "outputId": "c6261b77-72fa-4ba3-8d00-69a29403ec2c"
      },
      "execution_count": 8,
      "outputs": [
        {
          "output_type": "stream",
          "name": "stdout",
          "text": [
            "Which year do you want to check? 2100\n",
            "This is not a Leap year!\n"
          ]
        }
      ]
    },
    {
      "cell_type": "markdown",
      "source": [
        "5. Create a program that checks whether a character is a vowel or a consonant."
      ],
      "metadata": {
        "id": "aFOv39Opi_Hi"
      }
    },
    {
      "cell_type": "code",
      "source": [
        "char = input(\"Enter a character: \")\n",
        "vowels = set(\"aeiouAEIOU\")\n",
        "if char in vowels:\n",
        "  print(\"It is a vowel.\")\n",
        "else:\n",
        "  print(\"It is a consonant.\")"
      ],
      "metadata": {
        "colab": {
          "base_uri": "https://localhost:8080/"
        },
        "id": "f2LpILLMi0SP",
        "outputId": "f6a93639-0783-4cb2-a4d5-f2e044d33781"
      },
      "execution_count": null,
      "outputs": [
        {
          "output_type": "stream",
          "name": "stdout",
          "text": [
            "Enter a character: m\n",
            "It is a consonant.\n"
          ]
        }
      ]
    },
    {
      "cell_type": "markdown",
      "source": [
        "6. Implement a program to determine whether a given number is even or odd."
      ],
      "metadata": {
        "id": "sVuxLQcOkraM"
      }
    },
    {
      "cell_type": "code",
      "source": [
        "def odd_or_even(num):\n",
        "  if num % 2 == 0:\n",
        "    print(\"Even number.\")\n",
        "  else:\n",
        "    print(\"Odd number.\")\n",
        "\n",
        "given_num = 2001\n",
        "odd_or_even(given_num)"
      ],
      "metadata": {
        "colab": {
          "base_uri": "https://localhost:8080/"
        },
        "id": "EWBugXqzki2D",
        "outputId": "f2bc346d-f2b9-4e54-d92a-e50a9ac630c2"
      },
      "execution_count": null,
      "outputs": [
        {
          "output_type": "stream",
          "name": "stdout",
          "text": [
            "Odd number.\n"
          ]
        }
      ]
    },
    {
      "cell_type": "markdown",
      "source": [
        "7. Write a Python function to calculate the absolute value of a number without using the `abs()` function."
      ],
      "metadata": {
        "id": "RFEtM4HCln3t"
      }
    },
    {
      "cell_type": "code",
      "source": [
        "def calculate_absolute_value(number):\n",
        "    if number < 0:\n",
        "        return -number\n",
        "    else:\n",
        "        return number\n",
        "\n",
        "num = -5\n",
        "absolute_num = calculate_absolute_value(num)\n",
        "print(f\"The absolute value of {num} is {absolute_num}\")"
      ],
      "metadata": {
        "colab": {
          "base_uri": "https://localhost:8080/"
        },
        "id": "nhjRWy1DlOCw",
        "outputId": "a4a49446-7c4a-49d0-9770-910d925888ec"
      },
      "execution_count": null,
      "outputs": [
        {
          "output_type": "stream",
          "name": "stdout",
          "text": [
            "The absolute value of -5 is 5\n"
          ]
        }
      ]
    },
    {
      "cell_type": "markdown",
      "source": [
        "8. Develop a program that determines the largest of three given numbers using if-else statements."
      ],
      "metadata": {
        "id": "twMEhbEZmMto"
      }
    },
    {
      "cell_type": "code",
      "source": [
        "num1 = float(input(\"Enter the first number: \"))\n",
        "num2 = float(input(\"Enter the second number: \"))\n",
        "num3 = float(input(\"Enter the third number: \"))\n",
        "\n",
        "if num1 >= num2 and num1 >= num3:\n",
        "    largest = num1\n",
        "elif num2 >= num1 and num2 >= num3:\n",
        "    largest = num2\n",
        "else:\n",
        "    largest = num3\n",
        "\n",
        "print(\"The largest number is:\", largest)"
      ],
      "metadata": {
        "colab": {
          "base_uri": "https://localhost:8080/"
        },
        "id": "uBMlEfLOmGvE",
        "outputId": "d149983b-c7ef-4581-eeba-527cc4862c0e"
      },
      "execution_count": null,
      "outputs": [
        {
          "output_type": "stream",
          "name": "stdout",
          "text": [
            "Enter the first number: 784\n",
            "Enter the second number: 555\n",
            "Enter the third number: 1067\n",
            "The largest number is: 1067.0\n"
          ]
        }
      ]
    },
    {
      "cell_type": "markdown",
      "source": [
        "9. Create a program that checks if a given string is a palindrome."
      ],
      "metadata": {
        "id": "hD9ABCsSmu6n"
      }
    },
    {
      "cell_type": "code",
      "source": [
        "s = input(\"Enter a string: \")\n",
        "temp_string = s[::-1]\n",
        "if(temp_string == s):\n",
        "    print(\"Yes the string is palindrome.\")\n",
        "else:\n",
        "    print(\"No the string is not palindrome.\")"
      ],
      "metadata": {
        "colab": {
          "base_uri": "https://localhost:8080/"
        },
        "id": "eVA3T2f_mlos",
        "outputId": "60f979b6-1968-4554-810d-7c67bc8bb74b"
      },
      "execution_count": null,
      "outputs": [
        {
          "output_type": "stream",
          "name": "stdout",
          "text": [
            "Enter a string: madam\n",
            "Yes the string is palindrome.\n"
          ]
        }
      ]
    },
    {
      "cell_type": "markdown",
      "source": [
        "10. Write a Python program to calculate the grade based on a student's score."
      ],
      "metadata": {
        "id": "SY4Ny9_EnjbQ"
      }
    },
    {
      "cell_type": "code",
      "source": [
        "score = float(input(\"Enter the student's score: \"))\n",
        "\n",
        "if score >= 90:\n",
        "    grade = 'A'\n",
        "elif score >= 80:\n",
        "    grade = 'B'\n",
        "elif score >= 70:\n",
        "    grade = 'C'\n",
        "elif score >= 60:\n",
        "    grade = 'D'\n",
        "else:\n",
        "    grade = 'F'\n",
        "\n",
        "print(\"The student's grade is:\", grade)"
      ],
      "metadata": {
        "colab": {
          "base_uri": "https://localhost:8080/"
        },
        "id": "9GTMi_tHnLDl",
        "outputId": "e2cd0c75-734d-4605-f772-de3f4a5cd80d"
      },
      "execution_count": null,
      "outputs": [
        {
          "output_type": "stream",
          "name": "stdout",
          "text": [
            "Enter the student's score: 85\n",
            "The student's grade is: B\n"
          ]
        }
      ]
    },
    {
      "cell_type": "markdown",
      "source": [
        "# **Nested If-Else Statements:**"
      ],
      "metadata": {
        "id": "S39pCSuRum48"
      }
    },
    {
      "cell_type": "markdown",
      "source": [
        "11. Write a program to find the largest among three numbers using nested if-else statements."
      ],
      "metadata": {
        "id": "Sa9jYW6ZuxiH"
      }
    },
    {
      "cell_type": "code",
      "source": [
        "num1 = float(input(\"Enter the first number: \"))\n",
        "num2 = float(input(\"Enter the second number: \"))\n",
        "num3 = float(input(\"Enter the third number: \"))\n",
        "\n",
        "if num1 >= num2:\n",
        "    if num1 >= num3:\n",
        "        largest = num1\n",
        "    else:\n",
        "        largest = num3\n",
        "else:\n",
        "    if num2 >= num3:\n",
        "        largest = num2\n",
        "    else:\n",
        "        largest = num3\n",
        "\n",
        "print(\"The largest number is:\", largest)"
      ],
      "metadata": {
        "id": "xg3Fc03Pud7E",
        "colab": {
          "base_uri": "https://localhost:8080/"
        },
        "outputId": "79f682c2-f19e-4cbd-e39b-3b1356b80141"
      },
      "execution_count": null,
      "outputs": [
        {
          "output_type": "stream",
          "name": "stdout",
          "text": [
            "Enter the first number: 871\n",
            "Enter the second number: 123\n",
            "Enter the third number: 788\n",
            "The largest number is: 871.0\n"
          ]
        }
      ]
    },
    {
      "cell_type": "markdown",
      "source": [
        "12. Implement a program to determine if a triangle is equilateral, isosceles, or scalene."
      ],
      "metadata": {
        "id": "L3sQTNr89DZ-"
      }
    },
    {
      "cell_type": "code",
      "source": [
        "side1 = float(input(\"Enter the length of the first side: \"))\n",
        "side2 = float(input(\"Enter the length of the second side: \"))\n",
        "side3 = float(input(\"Enter the length of the third side: \"))\n",
        "\n",
        "if side1 == side2 == side3:\n",
        "    triangle_type = \"Equilateral\"\n",
        "elif side1 == side2 or side1 == side3 or side2 == side3:\n",
        "    triangle_type = \"Isosceles\"\n",
        "else:\n",
        "    triangle_type = \"Scalene\"\n",
        "\n",
        "print(f\"The triangle is a/an {triangle_type} triangle.\")"
      ],
      "metadata": {
        "colab": {
          "base_uri": "https://localhost:8080/"
        },
        "id": "moIgA7Ay87Oo",
        "outputId": "cabfcce1-0722-4313-aa87-2f20ef854bba"
      },
      "execution_count": null,
      "outputs": [
        {
          "output_type": "stream",
          "name": "stdout",
          "text": [
            "Enter the length of the first side: 4\n",
            "Enter the length of the second side: 6\n",
            "Enter the length of the third side: 4\n",
            "The triangle is a/an Isosceles triangle.\n"
          ]
        }
      ]
    },
    {
      "cell_type": "markdown",
      "source": [
        "13. Develop a program that checks if a year is a leap year and also if it is a century year."
      ],
      "metadata": {
        "id": "qWxOdl5E9scC"
      }
    },
    {
      "cell_type": "code",
      "source": [
        "year = int(input(\"Enter a year: \"))\n",
        "\n",
        "if (year % 4 == 0 and year % 100 != 0) or (year % 400 == 0):\n",
        "    is_leap_year = True\n",
        "else:\n",
        "    is_leap_year = False\n",
        "\n",
        "is_century_year = year % 100 == 0\n",
        "\n",
        "if is_leap_year:\n",
        "    print(f\"{year} is a leap year.\")\n",
        "else:\n",
        "    print(f\"{year} is not a leap year.\")\n",
        "\n",
        "if is_century_year:\n",
        "    print(f\"{year} is a century year.\")\n",
        "else:\n",
        "    print(f\"{year} is not a century year.\")"
      ],
      "metadata": {
        "colab": {
          "base_uri": "https://localhost:8080/"
        },
        "id": "BvUwsdeT9j3i",
        "outputId": "75a16aca-244a-4035-f695-06389e582812"
      },
      "execution_count": null,
      "outputs": [
        {
          "output_type": "stream",
          "name": "stdout",
          "text": [
            "Enter a year: 1900\n",
            "1900 is not a leap year.\n",
            "1900 is a century year.\n"
          ]
        }
      ]
    },
    {
      "cell_type": "markdown",
      "source": [
        "14. Write a Python script to determine if a number is positive, negative, or zero."
      ],
      "metadata": {
        "id": "-_B7jRZR-jQJ"
      }
    },
    {
      "cell_type": "code",
      "source": [
        "number = float(input(\"Enter a number: \"))\n",
        "\n",
        "if number > 0:\n",
        "    print(\"The number is positive.\")\n",
        "elif number < 0:\n",
        "    print(\"The number is negative.\")\n",
        "else:\n",
        "    print(\"The number is zero.\")"
      ],
      "metadata": {
        "colab": {
          "base_uri": "https://localhost:8080/"
        },
        "id": "uD8yvual-eHH",
        "outputId": "708cf872-519d-4662-d91f-19b8801acc0b"
      },
      "execution_count": null,
      "outputs": [
        {
          "output_type": "stream",
          "name": "stdout",
          "text": [
            "Enter a number: -8\n",
            "The number is negative.\n"
          ]
        }
      ]
    },
    {
      "cell_type": "markdown",
      "source": [
        "15. Create a program to check if a person is a teenager (between 13 and 19 years old)."
      ],
      "metadata": {
        "id": "NLDRHSzA_wOW"
      }
    },
    {
      "cell_type": "code",
      "source": [
        "age = int(input(\"Enter your age: \"))\n",
        "if age>=13 and age<=19:\n",
        "  print(\"You are a teenager.\")\n",
        "else:\n",
        "  print(\"You are not a teenager.\")"
      ],
      "metadata": {
        "colab": {
          "base_uri": "https://localhost:8080/"
        },
        "id": "HIzm3dsy_rnF",
        "outputId": "cc009c39-3494-4c81-cd59-bc5676f34450"
      },
      "execution_count": null,
      "outputs": [
        {
          "output_type": "stream",
          "name": "stdout",
          "text": [
            "Enter your age: 21\n",
            "You are not a teenager.\n"
          ]
        }
      ]
    },
    {
      "cell_type": "markdown",
      "source": [
        "16. Develop a program that determines the type of angle based on its measure (acute, obtuse, or right)."
      ],
      "metadata": {
        "id": "Sgj1NjQJAV5m"
      }
    },
    {
      "cell_type": "code",
      "source": [
        "angle_measure = float(input(\"Enter the measure of the angle in degrees: \"))\n",
        "\n",
        "if angle_measure == 90:\n",
        "    angle_type = \"Right\"\n",
        "elif angle_measure < 90:\n",
        "    angle_type = \"Acute\"\n",
        "else:\n",
        "    angle_type = \"Obtuse\"\n",
        "\n",
        "print(f\"The angle with a measure of {angle_measure} degrees is a {angle_type} angle.\")"
      ],
      "metadata": {
        "colab": {
          "base_uri": "https://localhost:8080/"
        },
        "id": "vqk3StPLAI24",
        "outputId": "a714036c-7bb4-4cfe-ab4c-d435f7e339e5"
      },
      "execution_count": null,
      "outputs": [
        {
          "output_type": "stream",
          "name": "stdout",
          "text": [
            "Enter the measure of the angle in degrees: 120\n",
            "The angle with a measure of 120.0 degrees is a Obtuse angle.\n"
          ]
        }
      ]
    },
    {
      "cell_type": "markdown",
      "source": [
        "17. Write a Python program to calculate the roots of a quadratic equation."
      ],
      "metadata": {
        "id": "DyoLqmkEA2lr"
      }
    },
    {
      "cell_type": "code",
      "source": [
        "import math\n",
        "\n",
        "a = float(input(\"Enter the coefficient 'a': \"))\n",
        "b = float(input(\"Enter the coefficient 'b': \"))\n",
        "c = float(input(\"Enter the coefficient 'c': \"))\n",
        "\n",
        "discriminant = b**2 - 4*a*c\n",
        "\n",
        "if discriminant > 0:\n",
        "    root1 = (-b + math.sqrt(discriminant)) / (2*a)\n",
        "    root2 = (-b - math.sqrt(discriminant)) / (2*a)\n",
        "    print(f\"Two distinct real roots: Root1 = {root1}, Root2 = {root2}\")\n",
        "elif discriminant == 0:\n",
        "    root1 = root2 = -b / (2*a)\n",
        "    print(f\"One real root: Root1 = Root2 = {root1}\")\n",
        "else:\n",
        "    real_part = -b / (2*a)\n",
        "    imaginary_part = math.sqrt(abs(discriminant)) / (2*a)\n",
        "    print(f\"Complex roots: Root1 = {real_part} + {imaginary_part}i, Root2 = {real_part} - {imaginary_part}i\")"
      ],
      "metadata": {
        "colab": {
          "base_uri": "https://localhost:8080/"
        },
        "id": "WLzc5GjrAuHJ",
        "outputId": "b139f803-9030-4b9e-ce6a-fea09a0324dc"
      },
      "execution_count": null,
      "outputs": [
        {
          "output_type": "stream",
          "name": "stdout",
          "text": [
            "Enter the coefficient 'a': 1\n",
            "Enter the coefficient 'b': -3\n",
            "Enter the coefficient 'c': 2\n",
            "Two distinct real roots: Root1 = 2.0, Root2 = 1.0\n"
          ]
        }
      ]
    },
    {
      "cell_type": "markdown",
      "source": [
        "18. Implement a program to determine the day of the week based on a user-provided number (1 for Monday, 2 for Tuesday, etc.)."
      ],
      "metadata": {
        "id": "cNjBiWQMbsQm"
      }
    },
    {
      "cell_type": "code",
      "source": [
        "def get_day_of_week(number):\n",
        "    days_of_week = [\"Monday\", \"Tuesday\", \"Wednesday\", \"Thursday\", \"Friday\", \"Saturday\", \"Sunday\"]\n",
        "\n",
        "    if 1 <= number <= 7:\n",
        "        print(f\"The day of the week is: {days_of_week[number - 1]}\")\n",
        "    else:\n",
        "        return print(\"Invalid input. Please enter a number between 1 and 7.\")\n",
        "\n",
        "user_input = int(input(\"Enter a number (1 for Monday, 2 for Tuesday, etc.): \"))\n",
        "day_of_week = get_day_of_week(user_input)"
      ],
      "metadata": {
        "id": "NYF7Tz1qD-nT",
        "colab": {
          "base_uri": "https://localhost:8080/"
        },
        "outputId": "806ff100-57eb-48a2-c390-dbfc7c73e374"
      },
      "execution_count": 5,
      "outputs": [
        {
          "output_type": "stream",
          "name": "stdout",
          "text": [
            "Enter a number (1 for Monday, 2 for Tuesday, etc.): 14\n",
            "Invalid input. Please enter a number between 1 and 7.\n"
          ]
        }
      ]
    },
    {
      "cell_type": "markdown",
      "source": [
        "19. Create a program that determines if a year is a leap year and also if it is evenly divisible by 400."
      ],
      "metadata": {
        "id": "jdKxN0WRe9wE"
      }
    },
    {
      "cell_type": "code",
      "source": [
        "year = int(input(\"Enter a year: \"))\n",
        "\n",
        "if (year % 4 == 0 and year % 100 != 0) or (year % 400 == 0):\n",
        "    is_leap_year = True\n",
        "else:\n",
        "    is_leap_year = False\n",
        "\n",
        "if is_leap_year:\n",
        "    print(f\"{year} is a leap year and evenly divisible by 400.\")\n",
        "else:\n",
        "    print(f\"{year} is not a leap year and not evenly divisible by 400.\")"
      ],
      "metadata": {
        "colab": {
          "base_uri": "https://localhost:8080/"
        },
        "id": "acohvbNBd8qR",
        "outputId": "74520618-900c-404a-eca7-79927c96e982"
      },
      "execution_count": 7,
      "outputs": [
        {
          "output_type": "stream",
          "name": "stdout",
          "text": [
            "Enter a year: 2100\n",
            "2100 is not a leap year and not evenly divisible by 400.\n"
          ]
        }
      ]
    },
    {
      "cell_type": "markdown",
      "source": [
        "20. Develop a program that checks if a given number is prime or not using nested if-else statements."
      ],
      "metadata": {
        "id": "fhDOs7Tigj6J"
      }
    },
    {
      "cell_type": "code",
      "source": [
        "def is_prime(number):\n",
        "    if number <= 1:\n",
        "        return False\n",
        "    elif number == 2:\n",
        "        return True\n",
        "    elif number % 2 == 0:\n",
        "        return False\n",
        "    else:\n",
        "        for i in range(3, int(number**0.5) + 1, 2):\n",
        "            if number % i == 0:\n",
        "                return False\n",
        "        return True\n",
        "\n",
        "num = int(input(\"Enter a number: \"))\n",
        "\n",
        "if is_prime(num):\n",
        "    print(f\"{num} is a prime number.\")\n",
        "else:\n",
        "    print(f\"{num} is not a prime number.\")"
      ],
      "metadata": {
        "colab": {
          "base_uri": "https://localhost:8080/"
        },
        "id": "gzKKIoajgP4F",
        "outputId": "d8513e24-6991-4a41-e191-da38c18c5924"
      },
      "execution_count": 10,
      "outputs": [
        {
          "output_type": "stream",
          "name": "stdout",
          "text": [
            "Enter a number: 9\n",
            "9 is not a prime number.\n"
          ]
        }
      ]
    },
    {
      "cell_type": "markdown",
      "source": [
        "# **Elif statements:**"
      ],
      "metadata": {
        "id": "DjySYeu0hvZq"
      }
    },
    {
      "cell_type": "markdown",
      "source": [
        "21. Write a Python program to assign grades based on different ranges of scores using elif statements."
      ],
      "metadata": {
        "id": "NB1cm6ELh46y"
      }
    },
    {
      "cell_type": "code",
      "source": [],
      "metadata": {
        "id": "Y5F5FCrBhp5b"
      },
      "execution_count": null,
      "outputs": []
    }
  ]
}