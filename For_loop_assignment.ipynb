{
  "nbformat": 4,
  "nbformat_minor": 0,
  "metadata": {
    "colab": {
      "provenance": [],
      "authorship_tag": "ABX9TyMS1Fq/KdbMvzdUikFDR7sG",
      "include_colab_link": true
    },
    "kernelspec": {
      "name": "python3",
      "display_name": "Python 3"
    },
    "language_info": {
      "name": "python"
    }
  },
  "cells": [
    {
      "cell_type": "markdown",
      "metadata": {
        "id": "view-in-github",
        "colab_type": "text"
      },
      "source": [
        "<a href=\"https://colab.research.google.com/github/AmitSaha15/FSDS-Pro_Assignments/blob/main/For_loop_assignment.ipynb\" target=\"_parent\"><img src=\"https://colab.research.google.com/assets/colab-badge.svg\" alt=\"Open In Colab\"/></a>"
      ]
    },
    {
      "cell_type": "markdown",
      "source": [
        "# **Basic Level:**\n",
        "\n",
        "\n"
      ],
      "metadata": {
        "id": "9ElyuNytT-hU"
      }
    },
    {
      "cell_type": "markdown",
      "source": [
        "1. Write a Python program to print the numbers from 1 to 10 using a `for` loop."
      ],
      "metadata": {
        "id": "TquMay1NUaVT"
      }
    },
    {
      "cell_type": "code",
      "execution_count": 1,
      "metadata": {
        "colab": {
          "base_uri": "https://localhost:8080/"
        },
        "id": "u8oJ3JFRTgWZ",
        "outputId": "419fbfaf-b472-4cc2-aeed-c4a59339a308"
      },
      "outputs": [
        {
          "output_type": "stream",
          "name": "stdout",
          "text": [
            "1\n",
            "2\n",
            "3\n",
            "4\n",
            "5\n",
            "6\n",
            "7\n",
            "8\n",
            "9\n",
            "10\n"
          ]
        }
      ],
      "source": [
        "for i in range(1,11):\n",
        "  print(i)"
      ]
    },
    {
      "cell_type": "markdown",
      "source": [
        "2. Create a program that calculates the sum of all numbers in a list using a `for` loop."
      ],
      "metadata": {
        "id": "83ajpaH8Us8h"
      }
    },
    {
      "cell_type": "code",
      "source": [
        "nums = [2,4,6,8,10]\n",
        "sum = 0\n",
        "for num in nums:\n",
        "  sum+=num\n",
        "print(sum)"
      ],
      "metadata": {
        "colab": {
          "base_uri": "https://localhost:8080/"
        },
        "id": "VFAvnWNTUncA",
        "outputId": "bbd1bb68-a84d-4f54-d79e-c81a760929c5"
      },
      "execution_count": 2,
      "outputs": [
        {
          "output_type": "stream",
          "name": "stdout",
          "text": [
            "30\n"
          ]
        }
      ]
    },
    {
      "cell_type": "markdown",
      "source": [
        "3. Write a program to print the characters of a string in reverse order using a `for` loop."
      ],
      "metadata": {
        "id": "PRFKVTNNVYQj"
      }
    },
    {
      "cell_type": "code",
      "source": [
        "def reverse(s):\n",
        "\tstr = \"\"\n",
        "\tfor i in s:\n",
        "\t\tstr = i + str\n",
        "\treturn str\n",
        "\n",
        "s = input(\"Enter a string: \")\n",
        "\n",
        "print(\"The reversed string is : \", reverse(s))\n"
      ],
      "metadata": {
        "colab": {
          "base_uri": "https://localhost:8080/"
        },
        "id": "VW6ibMWcVUrl",
        "outputId": "acd8ee05-1d06-482c-93bf-956ddb435686"
      },
      "execution_count": 3,
      "outputs": [
        {
          "output_type": "stream",
          "name": "stdout",
          "text": [
            "Enter a string: Assignment\n",
            "The reversed string is :  tnemngissA\n"
          ]
        }
      ]
    },
    {
      "cell_type": "markdown",
      "source": [
        "4. Develop a program that finds the factorial of a given number using a `for` loop."
      ],
      "metadata": {
        "id": "Yd1IefnBXLoL"
      }
    },
    {
      "cell_type": "code",
      "source": [
        "num = int(input(\"Enter a number you want factorial of: \"))\n",
        "factorial = 1\n",
        "for i in range(1,num+1):\n",
        "  factorial *= i\n",
        "\n",
        "print(f\"Factorial of {num} is: \",factorial)"
      ],
      "metadata": {
        "colab": {
          "base_uri": "https://localhost:8080/"
        },
        "id": "CneZ6futXCu7",
        "outputId": "ff85196a-6895-4778-9f18-8924e48ba795"
      },
      "execution_count": 4,
      "outputs": [
        {
          "output_type": "stream",
          "name": "stdout",
          "text": [
            "Enter a number you want factorial of: 5\n",
            "Factorial of 5 is:  120\n"
          ]
        }
      ]
    },
    {
      "cell_type": "markdown",
      "source": [
        "5. Create a program to print the multiplication table of a given number using a `for` loop."
      ],
      "metadata": {
        "id": "cvos6L9JZIn-"
      }
    },
    {
      "cell_type": "code",
      "source": [
        "def mul_table(number):\n",
        "  for i in range(1,11):\n",
        "    product = number*i\n",
        "    print(f\"{number} X {i} = {product}\")\n",
        "\n",
        "num = int(input(\"Enter a number: \"))\n",
        "print(f\"Multiplication table of {num}: \")\n",
        "mul_table(num)"
      ],
      "metadata": {
        "id": "7IlvC86CY568",
        "colab": {
          "base_uri": "https://localhost:8080/"
        },
        "outputId": "0e23ac8d-b206-451a-bbb3-6c4632850113"
      },
      "execution_count": 5,
      "outputs": [
        {
          "output_type": "stream",
          "name": "stdout",
          "text": [
            "Enter a number: 9\n",
            "Multiplication table of 9: \n",
            "9 X 1 = 9\n",
            "9 X 2 = 18\n",
            "9 X 3 = 27\n",
            "9 X 4 = 36\n",
            "9 X 5 = 45\n",
            "9 X 6 = 54\n",
            "9 X 7 = 63\n",
            "9 X 8 = 72\n",
            "9 X 9 = 81\n",
            "9 X 10 = 90\n"
          ]
        }
      ]
    },
    {
      "cell_type": "markdown",
      "source": [
        "6. Write a program that counts the number of even and odd numbers in a list using a `for` loop."
      ],
      "metadata": {
        "id": "ZkebTtLmiy2X"
      }
    },
    {
      "cell_type": "code",
      "source": [
        "nums = [11,22,33,44,55,66,77,88,99]\n",
        "even_count = 0\n",
        "odd_count = 0\n",
        "for num in nums:\n",
        "  if num % 2 == 0:\n",
        "    even_count += 1\n",
        "  else:\n",
        "    odd_count += 1\n",
        "\n",
        "print(\"Even numbers count in the list: \",even_count)\n",
        "print(\"Odd numbers count in the list: \",odd_count)"
      ],
      "metadata": {
        "id": "mnrkaY8VZ-nz",
        "colab": {
          "base_uri": "https://localhost:8080/"
        },
        "outputId": "46ba7446-1b6b-4364-e4ed-7f87267a21da"
      },
      "execution_count": 6,
      "outputs": [
        {
          "output_type": "stream",
          "name": "stdout",
          "text": [
            "Even numbers count in the list:  4\n",
            "Odd numbers count in the list:  5\n"
          ]
        }
      ]
    },
    {
      "cell_type": "markdown",
      "source": [
        "7. Develop a program that prints the squares of numbers from 1 to 5 using a `for` loop."
      ],
      "metadata": {
        "id": "gyhgZDWrj-ap"
      }
    },
    {
      "cell_type": "code",
      "source": [
        "for num in range(1,6):\n",
        "  sqr = num ** 2\n",
        "  print(f\"Square of {num} is: {sqr}\")"
      ],
      "metadata": {
        "id": "ghW1_EP5j5uT",
        "colab": {
          "base_uri": "https://localhost:8080/"
        },
        "outputId": "5f7d238b-f712-4800-92df-76215a443594"
      },
      "execution_count": 7,
      "outputs": [
        {
          "output_type": "stream",
          "name": "stdout",
          "text": [
            "Square of 1 is: 1\n",
            "Square of 2 is: 4\n",
            "Square of 3 is: 9\n",
            "Square of 4 is: 16\n",
            "Square of 5 is: 25\n"
          ]
        }
      ]
    },
    {
      "cell_type": "markdown",
      "source": [
        "8. Create a program to find the length of a string without using the `len()` function."
      ],
      "metadata": {
        "id": "RN3neI2Xkkzu"
      }
    },
    {
      "cell_type": "code",
      "source": [
        "def string_len(string):\n",
        "  len = 0\n",
        "  for char in string:\n",
        "    len += 1\n",
        "  return len\n",
        "\n",
        "input_str = input(\"Enter a string: \")\n",
        "print(\"The length of the string is: \", string_len(input_str))"
      ],
      "metadata": {
        "id": "21HI7Sw7kbiP",
        "colab": {
          "base_uri": "https://localhost:8080/"
        },
        "outputId": "0b7de0ca-fc3b-40ac-a8ae-dc19831e0dd8"
      },
      "execution_count": 8,
      "outputs": [
        {
          "output_type": "stream",
          "name": "stdout",
          "text": [
            "Enter a string: pwskills\n",
            "The length of the string is:  8\n"
          ]
        }
      ]
    },
    {
      "cell_type": "markdown",
      "source": [
        "9. Write a program that calculates the average of a list of numbers using a `for` loop."
      ],
      "metadata": {
        "id": "ZubW8r2XlPGb"
      }
    },
    {
      "cell_type": "code",
      "source": [
        "def cal_avg(l):\n",
        "  total = 0\n",
        "  count = 0\n",
        "  for elem in l:\n",
        "    total += elem\n",
        "    count += 1\n",
        "\n",
        "  avg = total/count\n",
        "  return avg\n",
        "\n",
        "l1 = [5,10,15,20,25,30]\n",
        "result = cal_avg(l1)\n",
        "print(\"Average = \",result)"
      ],
      "metadata": {
        "id": "TXIJnm3flLxX",
        "colab": {
          "base_uri": "https://localhost:8080/"
        },
        "outputId": "1b33a030-81ab-4047-dd6f-d23fe56a5e9f"
      },
      "execution_count": 9,
      "outputs": [
        {
          "output_type": "stream",
          "name": "stdout",
          "text": [
            "Average =  17.5\n"
          ]
        }
      ]
    },
    {
      "cell_type": "markdown",
      "source": [
        "10. Develop a program that prints the first `n` Fibonacci numbers using a `for` loop."
      ],
      "metadata": {
        "id": "LzXNdOaarK01"
      }
    },
    {
      "cell_type": "code",
      "source": [
        "def print_fibonacci_numbers(n):\n",
        "\n",
        "    f1 = 0\n",
        "    f2 = 1\n",
        "    if (n < 1):\n",
        "        return\n",
        "    print(f1, end=\" \")\n",
        "    for x in range(1, n):\n",
        "        print(f2, end=\" \")\n",
        "        next = f1 + f2\n",
        "        f1 = f2\n",
        "        f2 = next\n",
        "\n",
        "n = int(input(\"Enter the number of Fibonacci numbers to print: \"))\n",
        "print_fibonacci_numbers(n)"
      ],
      "metadata": {
        "id": "RMR2ycmMstno",
        "colab": {
          "base_uri": "https://localhost:8080/"
        },
        "outputId": "7eb31af0-4c7e-4ce4-8981-520116fb7319"
      },
      "execution_count": 10,
      "outputs": [
        {
          "output_type": "stream",
          "name": "stdout",
          "text": [
            "Enter the number of Fibonacci numbers to print: 7\n",
            "0 1 1 2 3 5 8 "
          ]
        }
      ]
    },
    {
      "cell_type": "markdown",
      "source": [
        "# **Intermediate Level:**"
      ],
      "metadata": {
        "id": "hjH_807jvZtV"
      }
    },
    {
      "cell_type": "markdown",
      "source": [
        "11. Write a program to check if a given list contains any duplicates using a `for` loop."
      ],
      "metadata": {
        "id": "4OZDiLSEvsM2"
      }
    },
    {
      "cell_type": "code",
      "source": [
        "given_list = [1,2,\"one\",3,4,1]\n",
        "has_duplicates = False\n",
        "for i in range(len(given_list)):\n",
        "  for j in range(i+1, len(given_list)):\n",
        "    if given_list[i] == given_list[j]:\n",
        "      has_duplicates = True\n",
        "      break\n",
        "\n",
        "if has_duplicates:\n",
        "  print(\"The list contains duplicates.\")\n",
        "else:\n",
        "  print(\"The list does not contain duplicates.\")"
      ],
      "metadata": {
        "colab": {
          "base_uri": "https://localhost:8080/"
        },
        "id": "oUlh0WBcsucC",
        "outputId": "8cba74a1-c217-43a1-ae9d-573afbab3262"
      },
      "execution_count": 11,
      "outputs": [
        {
          "output_type": "stream",
          "name": "stdout",
          "text": [
            "The list contains duplicates.\n"
          ]
        }
      ]
    },
    {
      "cell_type": "markdown",
      "source": [
        "12. Create a program that prints the prime numbers in a given range using a `for` loop."
      ],
      "metadata": {
        "id": "kZFE7SMZ0K99"
      }
    },
    {
      "cell_type": "code",
      "source": [
        "start = int(input(\"Enter the starting number: \"))\n",
        "end = int(input(\"Enter the ending number: \"))\n",
        "\n",
        "def is_prime(num):\n",
        "    if num <= 1:\n",
        "        return False\n",
        "    for i in range(2, int(num ** 0.5) + 1):\n",
        "        if num % i == 0:\n",
        "            return False\n",
        "    return True\n",
        "\n",
        "print(\"Prime numbers in the given range:\")\n",
        "for number in range(start, end+1):\n",
        "    if is_prime(number):\n",
        "        print(number, end=\" \")"
      ],
      "metadata": {
        "colab": {
          "base_uri": "https://localhost:8080/"
        },
        "id": "kpcE0xLG0FIO",
        "outputId": "f165c127-94e1-4ea3-a92e-24dfe0edaff0"
      },
      "execution_count": 12,
      "outputs": [
        {
          "output_type": "stream",
          "name": "stdout",
          "text": [
            "Enter the starting number: 1\n",
            "Enter the ending number: 5\n",
            "Prime numbers in the given range:\n",
            "2 3 5 "
          ]
        }
      ]
    },
    {
      "cell_type": "markdown",
      "source": [
        "13. Develop a program that counts the number of vowels in a string using a `for` loop."
      ],
      "metadata": {
        "id": "LClvdqCwitfB"
      }
    },
    {
      "cell_type": "code",
      "source": [
        "def vowel_count(s3):\n",
        "    count = 0\n",
        "    vowel = set(\"aeiouAEIOU\")\n",
        "    for alphabet in s3:\n",
        "        if alphabet in vowel:\n",
        "            count += 1\n",
        "    print(\"Number of vowels = \", count)\n",
        "\n",
        "s3 = input(\"Enter a sentence: \")\n",
        "vowel_count(s3)"
      ],
      "metadata": {
        "id": "U8pGS4tQdXOy",
        "colab": {
          "base_uri": "https://localhost:8080/"
        },
        "outputId": "710c546c-54de-4104-a3f9-7a75a134f62a"
      },
      "execution_count": 13,
      "outputs": [
        {
          "output_type": "stream",
          "name": "stdout",
          "text": [
            "Enter a sentence: hello everyone\n",
            "Number of vowels =  6\n"
          ]
        }
      ]
    },
    {
      "cell_type": "markdown",
      "source": [
        "14. Write a program to find the maximum element in a 2D list using a nested `for` loop."
      ],
      "metadata": {
        "id": "WLs5kc0zjF0R"
      }
    },
    {
      "cell_type": "code",
      "source": [
        "td_list = [\n",
        "    [1,3,5],\n",
        "    [2,4,6],\n",
        "    [8,1,2]\n",
        "]\n",
        "\n",
        "max_value = td_list[0][0]\n",
        "for row in td_list:\n",
        "  for elem in row:\n",
        "    if elem > max_value:\n",
        "      max_value = elem\n",
        "\n",
        "print(f\"The max value of the 2D list is: {max_value}\")"
      ],
      "metadata": {
        "colab": {
          "base_uri": "https://localhost:8080/"
        },
        "id": "SCaugml3i9FE",
        "outputId": "776ac6e5-335e-4ddd-f29a-b1a774b12bd0"
      },
      "execution_count": 14,
      "outputs": [
        {
          "output_type": "stream",
          "name": "stdout",
          "text": [
            "The max value of the 2D list is: 8\n"
          ]
        }
      ]
    },
    {
      "cell_type": "markdown",
      "source": [
        "15. Create a program that removes all occurrences of a specific element from a list using a `for` loop."
      ],
      "metadata": {
        "id": "Zz_c470KkkBX"
      }
    },
    {
      "cell_type": "code",
      "source": [
        "given_list = [2,4,5,7,\"four\",4,9]\n",
        "element_to_remove = 4\n",
        "numbers = []\n",
        "for num in given_list:\n",
        "  if num != element_to_remove:\n",
        "    numbers.append(num)\n",
        "\n",
        "print(f\"List after removing all occurrences of {element_to_remove}: {numbers}\")"
      ],
      "metadata": {
        "colab": {
          "base_uri": "https://localhost:8080/"
        },
        "id": "_9i-nU-tkhHn",
        "outputId": "0750167c-4e80-450c-ee5f-cef5969c7606"
      },
      "execution_count": 15,
      "outputs": [
        {
          "output_type": "stream",
          "name": "stdout",
          "text": [
            "List after removing all occurrences of 4: [2, 5, 7, 'four', 9]\n"
          ]
        }
      ]
    },
    {
      "cell_type": "markdown",
      "source": [
        "16. Develop a program that generates a multiplication table for numbers from 1 to 5 using a nested `for` loop."
      ],
      "metadata": {
        "id": "I7HTUka0ne6x"
      }
    },
    {
      "cell_type": "code",
      "source": [
        "for i in range(1,6):\n",
        "  for j in range(1,11):\n",
        "    product = i*j\n",
        "    print(f\"{i} X {j} = {product}\",end=\"\\t\")\n",
        "  print()"
      ],
      "metadata": {
        "colab": {
          "base_uri": "https://localhost:8080/"
        },
        "id": "5IUdLzBwnbOM",
        "outputId": "94e1a6f6-e0ea-4bc2-f58f-96ea2e5bb7f3"
      },
      "execution_count": 17,
      "outputs": [
        {
          "output_type": "stream",
          "name": "stdout",
          "text": [
            "1 X 1 = 1\t1 X 2 = 2\t1 X 3 = 3\t1 X 4 = 4\t1 X 5 = 5\t1 X 6 = 6\t1 X 7 = 7\t1 X 8 = 8\t1 X 9 = 9\t1 X 10 = 10\t\n",
            "2 X 1 = 2\t2 X 2 = 4\t2 X 3 = 6\t2 X 4 = 8\t2 X 5 = 10\t2 X 6 = 12\t2 X 7 = 14\t2 X 8 = 16\t2 X 9 = 18\t2 X 10 = 20\t\n",
            "3 X 1 = 3\t3 X 2 = 6\t3 X 3 = 9\t3 X 4 = 12\t3 X 5 = 15\t3 X 6 = 18\t3 X 7 = 21\t3 X 8 = 24\t3 X 9 = 27\t3 X 10 = 30\t\n",
            "4 X 1 = 4\t4 X 2 = 8\t4 X 3 = 12\t4 X 4 = 16\t4 X 5 = 20\t4 X 6 = 24\t4 X 7 = 28\t4 X 8 = 32\t4 X 9 = 36\t4 X 10 = 40\t\n",
            "5 X 1 = 5\t5 X 2 = 10\t5 X 3 = 15\t5 X 4 = 20\t5 X 5 = 25\t5 X 6 = 30\t5 X 7 = 35\t5 X 8 = 40\t5 X 9 = 45\t5 X 10 = 50\t\n"
          ]
        }
      ]
    },
    {
      "cell_type": "markdown",
      "source": [
        "17. Write a program that converts a list of Fahrenheit temperatures to Celsius using a `for` loop."
      ],
      "metadata": {
        "id": "n-9Y7fXNosJu"
      }
    },
    {
      "cell_type": "code",
      "source": [
        "fahrenheit_temperatures = [32, 50, 100, 212]\n",
        "celsius_temperatures = []\n",
        "\n",
        "for fahrenheit in fahrenheit_temperatures:\n",
        "    celsius = (fahrenheit - 32) * 5/9\n",
        "    celsius_temperatures.append(celsius)\n",
        "\n",
        "print(\"Fahrenheit temperatures:\", fahrenheit_temperatures)\n",
        "print(\"Celsius temperatures:\", celsius_temperatures)"
      ],
      "metadata": {
        "colab": {
          "base_uri": "https://localhost:8080/"
        },
        "id": "MZdkMI5BoeUF",
        "outputId": "1f74c494-5f9d-4050-867a-4ae7a918a3dc"
      },
      "execution_count": 19,
      "outputs": [
        {
          "output_type": "stream",
          "name": "stdout",
          "text": [
            "Fahrenheit temperatures: [32, 50, 100, 212]\n",
            "Celsius temperatures: [0.0, 10.0, 37.77777777777778, 100.0]\n"
          ]
        }
      ]
    },
    {
      "cell_type": "markdown",
      "source": [
        "18. Create a program to print the common elements from two lists using a `for` loop."
      ],
      "metadata": {
        "id": "Dh26C78-pVSo"
      }
    },
    {
      "cell_type": "code",
      "source": [
        "l1=[2,4,6,8,10,12]\n",
        "l2=[4,8,12,16,20]\n",
        "ans = []\n",
        "\n",
        "for i in l1:\n",
        "  for j in l2:\n",
        "    if i == j:\n",
        "      ans.append(i)\n",
        "\n",
        "print(\"Common elements: \", ans)"
      ],
      "metadata": {
        "colab": {
          "base_uri": "https://localhost:8080/"
        },
        "id": "z6nGPoeHpILa",
        "outputId": "f77bfd95-8a37-4c57-cbef-d55b01a17b36"
      },
      "execution_count": 22,
      "outputs": [
        {
          "output_type": "stream",
          "name": "stdout",
          "text": [
            "Common elements:  [4, 8, 12]\n"
          ]
        }
      ]
    },
    {
      "cell_type": "markdown",
      "source": [
        "19. Develop a program that prints the pattern of right-angled triangles using a `for` loop. Use ‘*’ to draw the\n",
        "pattern"
      ],
      "metadata": {
        "id": "zO1AWKWVrz7N"
      }
    },
    {
      "cell_type": "code",
      "source": [
        "n = int(input(\"Enter the number of rows: \"))\n",
        "for i in range(1, n+1):\n",
        "  for j in range(i):\n",
        "    print(\"*\", end=\" \")\n",
        "  print()"
      ],
      "metadata": {
        "colab": {
          "base_uri": "https://localhost:8080/"
        },
        "id": "qW2x0pAyrdpa",
        "outputId": "b4ec2a40-2180-4586-8102-73982581a275"
      },
      "execution_count": 24,
      "outputs": [
        {
          "output_type": "stream",
          "name": "stdout",
          "text": [
            "Enter the number of rows: 5\n",
            "* \n",
            "* * \n",
            "* * * \n",
            "* * * * \n",
            "* * * * * \n"
          ]
        }
      ]
    },
    {
      "cell_type": "markdown",
      "source": [
        "20. Write a program to find the greatest common divisor (GCD) of two numbers using a `for` loop."
      ],
      "metadata": {
        "id": "9yfsyOQ9sjvc"
      }
    },
    {
      "cell_type": "code",
      "source": [
        "num1 = int(input(\"Enter the first number: \"))\n",
        "num2 = int(input(\"Enter the second number: \"))\n",
        "\n",
        "def gcd(a, b):\n",
        "    while b:\n",
        "        a, b = b, a % b\n",
        "    return a\n",
        "\n",
        "result = gcd(num1, num2)\n",
        "print(f\"The greatest common divisor (GCD) of {num1} and {num2} is: {result}\")"
      ],
      "metadata": {
        "colab": {
          "base_uri": "https://localhost:8080/"
        },
        "id": "8f1ea-jqsSR7",
        "outputId": "3c783126-5faa-44e5-e126-803d445d6233"
      },
      "execution_count": 25,
      "outputs": [
        {
          "output_type": "stream",
          "name": "stdout",
          "text": [
            "Enter the first number: 36\n",
            "Enter the second number: 60\n",
            "The greatest common divisor (GCD) of 36 and 60 is: 12\n"
          ]
        }
      ]
    },
    {
      "cell_type": "markdown",
      "source": [
        "# **Advanced Level:**"
      ],
      "metadata": {
        "id": "_qJ9HQSaGb67"
      }
    },
    {
      "cell_type": "markdown",
      "source": [
        "21. Create a program that calculates the sum of the digits of numbers in a list using a list comprehension."
      ],
      "metadata": {
        "id": "AqvQd2poGxsq"
      }
    },
    {
      "cell_type": "code",
      "source": [
        "numbers = [123, 45, 6789, 987]\n",
        "sum_of_numbers = [sum(int(digit) for digit in str(num)) for num in numbers]\n",
        "print(f\"The sum of the digits of numbers in the list = {sum_of_numbers}\")"
      ],
      "metadata": {
        "colab": {
          "base_uri": "https://localhost:8080/"
        },
        "id": "1G9esIzDwQqr",
        "outputId": "c7bfa9d2-fe20-4196-e6fd-f9c01c055d41"
      },
      "execution_count": 1,
      "outputs": [
        {
          "output_type": "stream",
          "name": "stdout",
          "text": [
            "The sum of the digits of numbers in the list = [6, 9, 30, 24]\n"
          ]
        }
      ]
    },
    {
      "cell_type": "markdown",
      "source": [
        "22. Write a program to find the prime factors of a given number using a `for` loop and list comprehension"
      ],
      "metadata": {
        "id": "4SMy9J4hJpH9"
      }
    },
    {
      "cell_type": "code",
      "source": [
        "number = int(input(\"Enter a number: \"))\n",
        "prime_factors = [factor for factor in range(2, number + 1) if number % factor == 0 and all(factor % i != 0 for i in range(2, factor))]\n",
        "print(\"Prime factors:\", prime_factors)"
      ],
      "metadata": {
        "colab": {
          "base_uri": "https://localhost:8080/"
        },
        "id": "sJWVZpmbJjWw",
        "outputId": "a3199368-8907-4a57-bca6-1e825c5140af"
      },
      "execution_count": 4,
      "outputs": [
        {
          "output_type": "stream",
          "name": "stdout",
          "text": [
            "Enter a number: 20\n",
            "Prime factors: [2, 5]\n"
          ]
        }
      ]
    },
    {
      "cell_type": "markdown",
      "source": [
        "23. Develop a program that extracts unique elements from a list and stores them in a new list using a list\n",
        "comprehension."
      ],
      "metadata": {
        "id": "VBP9tvPLgq13"
      }
    },
    {
      "cell_type": "code",
      "source": [
        "original_list = [10,20,\"pwskills\", 30,10,\"data\",\"pwskills\",100]\n",
        "new_list = [elem for index,elem in enumerate(original_list) if elem not in original_list[:index]]\n",
        "print(\"Unique elements: \",new_list)"
      ],
      "metadata": {
        "colab": {
          "base_uri": "https://localhost:8080/"
        },
        "id": "gnjssw11gYBL",
        "outputId": "8f2cc5e4-29db-4ff9-861b-2eda22019b25"
      },
      "execution_count": 5,
      "outputs": [
        {
          "output_type": "stream",
          "name": "stdout",
          "text": [
            "Unique elements:  [10, 20, 'pwskills', 30, 'data', 100]\n"
          ]
        }
      ]
    },
    {
      "cell_type": "markdown",
      "source": [
        "24. Create a program that generates a list of all palindromic numbers up to a specified limit using a list\n",
        "comprehension."
      ],
      "metadata": {
        "id": "kOhsdx_AkRgr"
      }
    },
    {
      "cell_type": "code",
      "source": [
        "limit = int(input(\"Enter limit: \"))\n",
        "palindromic_numbers = [num for num in range(1, limit+1) if str(num) == str(num)[::-1]]\n",
        "print(\"Palindromic numbers: \", palindromic_numbers)"
      ],
      "metadata": {
        "colab": {
          "base_uri": "https://localhost:8080/"
        },
        "id": "gE_CwgGBkKwR",
        "outputId": "0553e12a-ca0f-4c1f-b070-e8e23f1ae209"
      },
      "execution_count": 7,
      "outputs": [
        {
          "output_type": "stream",
          "name": "stdout",
          "text": [
            "Enter limit: 100\n",
            "Palindromic numbers:  [1, 2, 3, 4, 5, 6, 7, 8, 9, 11, 22, 33, 44, 55, 66, 77, 88, 99]\n"
          ]
        }
      ]
    },
    {
      "cell_type": "markdown",
      "source": [
        "25. Write a program to flatten a nested list using list comprehension."
      ],
      "metadata": {
        "id": "6gbln6UZlfLq"
      }
    },
    {
      "cell_type": "code",
      "source": [
        "nested_list = [[1,2,3], [4,5], [6,7,8,9]]\n",
        "flatten_list = [item for elem in nested_list for item in elem]\n",
        "print(\"The flattened list: \",flatten_list)"
      ],
      "metadata": {
        "colab": {
          "base_uri": "https://localhost:8080/"
        },
        "id": "i3Z7qHKblU7N",
        "outputId": "95259cd8-2d61-4897-b8eb-34e12edd2b6d"
      },
      "execution_count": 8,
      "outputs": [
        {
          "output_type": "stream",
          "name": "stdout",
          "text": [
            "The flattened list:  [1, 2, 3, 4, 5, 6, 7, 8, 9]\n"
          ]
        }
      ]
    },
    {
      "cell_type": "markdown",
      "source": [
        "26. Develop a program that computes the sum of even and odd numbers in a list separately using list\n",
        "comprehension."
      ],
      "metadata": {
        "id": "oQerxWtrpwIF"
      }
    },
    {
      "cell_type": "code",
      "source": [
        "numbers = [1,2,3,4,5,6,7,8,9]\n",
        "even_sum = sum([num for num in numbers if num % 2 == 0])\n",
        "odd_sum = sum([num for num in numbers if num % 2 != 0])\n",
        "print(f\"Sum of even numbers: {even_sum}\")\n",
        "print(f\"Sum of odd numbers: {odd_sum}\")"
      ],
      "metadata": {
        "colab": {
          "base_uri": "https://localhost:8080/"
        },
        "id": "zs4aHDyanXGB",
        "outputId": "bb499ef0-680a-4ad9-afbd-d704413e158b"
      },
      "execution_count": 9,
      "outputs": [
        {
          "output_type": "stream",
          "name": "stdout",
          "text": [
            "Sum of even numbers: 20\n",
            "Sum of odd numbers: 25\n"
          ]
        }
      ]
    },
    {
      "cell_type": "markdown",
      "source": [
        "27. Create a program that generates a list of squares of odd numbers between 1 and 10 using list\n",
        "comprehension."
      ],
      "metadata": {
        "id": "mFVlytp6rk1H"
      }
    },
    {
      "cell_type": "code",
      "source": [
        "square_of_odd_nums = [num**2 for num in range(1,11) if num % 2 != 0]\n",
        "print(\"List of squares of odd numbers between 1 and 10: \", square_of_odd_nums)"
      ],
      "metadata": {
        "colab": {
          "base_uri": "https://localhost:8080/"
        },
        "id": "GoihsnWRrZ-x",
        "outputId": "cdb0de38-9f2c-4399-989b-a50537709021"
      },
      "execution_count": 10,
      "outputs": [
        {
          "output_type": "stream",
          "name": "stdout",
          "text": [
            "List of squares of odd numbers between 1 and 10:  [1, 9, 25, 49, 81]\n"
          ]
        }
      ]
    },
    {
      "cell_type": "markdown",
      "source": [
        "28. Write a program that combines two lists into a dictionary using list comprehension."
      ],
      "metadata": {
        "id": "N7TYL5les34p"
      }
    },
    {
      "cell_type": "code",
      "source": [
        "keys = ['name', 'age', 'city']\n",
        "values =['Amit', 21, 'Kolkata']\n",
        "combined_dict = {keys[i]:values[i] for i in range(len(keys))}\n",
        "print(\"Thye combined dictionary: \",combined_dict)"
      ],
      "metadata": {
        "colab": {
          "base_uri": "https://localhost:8080/"
        },
        "id": "Sg-BsEPqszYi",
        "outputId": "71fa2e6d-88fc-48cf-d7ba-64d784c24559"
      },
      "execution_count": 11,
      "outputs": [
        {
          "output_type": "stream",
          "name": "stdout",
          "text": [
            "Thye combined dictionary:  {'name': 'Amit', 'age': 21, 'city': 'Kolkata'}\n"
          ]
        }
      ]
    },
    {
      "cell_type": "markdown",
      "source": [
        "29. Develop a program that extracts the vowels from a string and stores them in a list using list comprehension."
      ],
      "metadata": {
        "id": "4pwigAAZwdFG"
      }
    },
    {
      "cell_type": "code",
      "source": [
        "given_string = \"Hello, myself Amit Saha.\"\n",
        "vowels = set(\"aeiouAEIOU\")\n",
        "vowels_list = [char for char in given_string if char in vowels]\n",
        "print(\"The list of vowels: \",vowels_list)"
      ],
      "metadata": {
        "colab": {
          "base_uri": "https://localhost:8080/"
        },
        "id": "8_a7xsqqwZST",
        "outputId": "8b4e01d8-12b1-4800-9bab-5e0e9abc9cf6"
      },
      "execution_count": 12,
      "outputs": [
        {
          "output_type": "stream",
          "name": "stdout",
          "text": [
            "The list of vowels:  ['e', 'o', 'e', 'A', 'i', 'a', 'a']\n"
          ]
        }
      ]
    },
    {
      "cell_type": "markdown",
      "source": [
        "30. Create a program that removes all non-numeric characters from a list of strings using list comprehension."
      ],
      "metadata": {
        "id": "GEvnhO5Q0j5O"
      }
    },
    {
      "cell_type": "code",
      "source": [
        "list_of_strings = ['abc', '123', 'efg', '456']\n",
        "numeric_list = [elem for elem in list_of_strings if elem.isdigit()]\n",
        "print(\"The numeric characters from the list: \",numeric_list)"
      ],
      "metadata": {
        "colab": {
          "base_uri": "https://localhost:8080/"
        },
        "id": "UdsYXFpD0ftB",
        "outputId": "5bad742f-a001-4205-eb1c-ea442602a7a6"
      },
      "execution_count": 13,
      "outputs": [
        {
          "output_type": "stream",
          "name": "stdout",
          "text": [
            "The numeric characters from the list:  ['123', '456']\n"
          ]
        }
      ]
    },
    {
      "cell_type": "markdown",
      "source": [
        "# **Challenge Level:**"
      ],
      "metadata": {
        "id": "fzhuXw912Irt"
      }
    },
    {
      "cell_type": "code",
      "source": [],
      "metadata": {
        "id": "wNZJfP-O2DYX"
      },
      "execution_count": null,
      "outputs": []
    }
  ]
}