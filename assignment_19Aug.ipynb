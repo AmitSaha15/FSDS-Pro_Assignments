{
 "cells": [
  {
   "cell_type": "markdown",
   "id": "93ced819-ceab-4c70-87b9-60b2665bb464",
   "metadata": {
    "tags": []
   },
   "source": [
    "# Class 1 Python basic assignment"
   ]
  },
  {
   "cell_type": "markdown",
   "id": "ef7520d1-2542-415d-bb93-4e1eef3f6e65",
   "metadata": {},
   "source": [
    "- Basic variable based questions "
   ]
  },
  {
   "cell_type": "markdown",
   "id": "25fc3d0f-f27e-443b-8778-7bbafa6336a2",
   "metadata": {},
   "source": [
    "1. Declare two variables, `x` and `y`, and assign them integer values. Swap the values of these variables without using any temporary variable."
   ]
  },
  {
   "cell_type": "code",
   "execution_count": 1,
   "id": "9273eeca-2745-4974-a668-b7a0e7108dc8",
   "metadata": {},
   "outputs": [
    {
     "name": "stdout",
     "output_type": "stream",
     "text": [
      "x =  5\n",
      "y =  15\n"
     ]
    }
   ],
   "source": [
    "x=15\n",
    "y=5\n",
    "\n",
    "x = x+y\n",
    "y = x-y\n",
    "x = x-y\n",
    "print(\"x = \",x)\n",
    "print(\"y = \",y)"
   ]
  },
  {
   "cell_type": "markdown",
   "id": "206bb5cc-139a-44c8-80a6-6f371583e173",
   "metadata": {},
   "source": [
    "2. Create a program that calculates the area of a rectangle. Take the length and width as inputs from the user and store them in variables. Calculate and display the area."
   ]
  },
  {
   "cell_type": "code",
   "execution_count": 2,
   "id": "64c62ced-8689-418f-a338-f7bcc501bcbc",
   "metadata": {},
   "outputs": [
    {
     "name": "stdin",
     "output_type": "stream",
     "text": [
      "Enter the length:  5\n",
      "Enter the width:  5\n"
     ]
    },
    {
     "name": "stdout",
     "output_type": "stream",
     "text": [
      "Area =  25\n"
     ]
    }
   ],
   "source": [
    "l = int(input(\"Enter the length: \"))\n",
    "w = int(input(\"Enter the width: \"))\n",
    "area = l*w\n",
    "print(\"Area = \",area)"
   ]
  },
  {
   "cell_type": "markdown",
   "id": "42a52521-1bdf-4b39-9fa6-76696ecad937",
   "metadata": {},
   "source": [
    "3. Write a Python program that converts temperatures from Celsius to Fahrenheit. Take the temperature in Celsius as input, store it in a variable, convert it to Fahrenheit, and display the result."
   ]
  },
  {
   "cell_type": "code",
   "execution_count": 3,
   "id": "ca641f9e-57d3-43c2-b339-cd901dba8217",
   "metadata": {},
   "outputs": [
    {
     "name": "stdin",
     "output_type": "stream",
     "text": [
      "Enter the temperature in Celsius:  100\n"
     ]
    },
    {
     "name": "stdout",
     "output_type": "stream",
     "text": [
      "Temperature in Fahrenheit =  212.0\n"
     ]
    }
   ],
   "source": [
    "temp = int(input(\"Enter the temperature in Celsius: \"))\n",
    "temp_fahr = (temp * 9/5) + 32\n",
    "print(\"Temperature in Fahrenheit = \",temp_fahr)"
   ]
  },
  {
   "cell_type": "markdown",
   "id": "ba50ccf1-ed67-4b65-892d-fe2a3f3bfd15",
   "metadata": {},
   "source": [
    "- String based questions"
   ]
  },
  {
   "cell_type": "markdown",
   "id": "9821f9ee-e890-4c6f-81e5-3ce6be7548c8",
   "metadata": {},
   "source": [
    "1. Write a Python program that takes a string as input and prints the length of the string."
   ]
  },
  {
   "cell_type": "code",
   "execution_count": 2,
   "id": "a1147c3a-f3ff-4c1a-a369-be94a893dcd8",
   "metadata": {},
   "outputs": [
    {
     "name": "stdin",
     "output_type": "stream",
     "text": [
      "Enter a string:  pwskills\n"
     ]
    },
    {
     "name": "stdout",
     "output_type": "stream",
     "text": [
      "The length of the string is:  8\n"
     ]
    }
   ],
   "source": [
    "s = input(\"Enter a string: \")\n",
    "length = len(s)\n",
    "print(\"The length of the string is: \", length)"
   ]
  },
  {
   "cell_type": "markdown",
   "id": "9d5aaee1-9b36-418a-bca6-1f5c7d207dc1",
   "metadata": {},
   "source": [
    "2. Create a program that takes a sentence from the user and counts the number of vowels (a, e, i, o, u) in the string."
   ]
  },
  {
   "cell_type": "code",
   "execution_count": 3,
   "id": "7cf9dec1-49e9-40da-a158-e7f03b7611aa",
   "metadata": {},
   "outputs": [
    {
     "name": "stdin",
     "output_type": "stream",
     "text": [
      "Enter a sentence:  I am ironman.\n"
     ]
    },
    {
     "name": "stdout",
     "output_type": "stream",
     "text": [
      "Number of vowels =  5\n"
     ]
    }
   ],
   "source": [
    "def vowel_count(s3):\n",
    "    count = 0\n",
    "    vowel = set(\"aeiouAEIOU\")\n",
    "    for alphabet in s3:\n",
    "        if alphabet in vowel:\n",
    "            count += 1\n",
    "    print(\"Number of vowels = \", count)\n",
    "    \n",
    "s3 = input(\"Enter a sentence: \")\n",
    "vowel_count(s3)"
   ]
  },
  {
   "cell_type": "markdown",
   "id": "261d56f1-9e28-4454-b469-bafdd15584ec",
   "metadata": {},
   "source": [
    "3. Given a string, reverse the order of characters using string slicing and print the reversed string."
   ]
  },
  {
   "cell_type": "code",
   "execution_count": 2,
   "id": "54751768-5ea4-4293-87f6-74d48a3acec6",
   "metadata": {},
   "outputs": [
    {
     "name": "stdout",
     "output_type": "stream",
     "text": [
      "Reversed string:  tnemngissa\n"
     ]
    }
   ],
   "source": [
    "s1 = \"assignment\"\n",
    "s1 = s1[::-1]\n",
    "print(\"Reversed string: \", s1)"
   ]
  },
  {
   "cell_type": "markdown",
   "id": "7cc54460-ff23-4ab1-931d-28f07a1a2b39",
   "metadata": {},
   "source": [
    "4. Write a program that takes a string as input and checks if it is a palindrome (reads the same forwards and backwards)."
   ]
  },
  {
   "cell_type": "code",
   "execution_count": 3,
   "id": "93a7aaea-3e97-4e7c-8b50-fa945382f366",
   "metadata": {},
   "outputs": [
    {
     "name": "stdin",
     "output_type": "stream",
     "text": [
      "Enter a string:  malayalam\n"
     ]
    },
    {
     "name": "stdout",
     "output_type": "stream",
     "text": [
      "Yes the string is palindrome.\n"
     ]
    }
   ],
   "source": [
    "s2 = input(\"Enter a string: \")\n",
    "temp_string = s2[::-1]\n",
    "if(temp_string == s2):\n",
    "    print(\"Yes the string is palindrome.\")\n",
    "else:\n",
    "    print(\"No the string is not palindrome.\")"
   ]
  },
  {
   "cell_type": "markdown",
   "id": "394c981a-5377-4fef-bc9a-b87119d81587",
   "metadata": {},
   "source": [
    "5. Create a program that takes a string as input and removes all the spaces from it. Print the modified string without spaces."
   ]
  },
  {
   "cell_type": "code",
   "execution_count": 4,
   "id": "cdd0aaa6-0e1e-4fa7-a86d-22be95f43974",
   "metadata": {},
   "outputs": [
    {
     "name": "stdin",
     "output_type": "stream",
     "text": [
      "Enter a string with spaces:      Python   Basic   Data      Type  Lecture     \n"
     ]
    },
    {
     "name": "stdout",
     "output_type": "stream",
     "text": [
      "The modified string without spaces:  PythonBasicDataTypeLecture\n"
     ]
    }
   ],
   "source": [
    "def remove_spaces(string):\n",
    "    string = string.replace(' ','')\n",
    "    return string\n",
    "     \n",
    "string = input(\"Enter a string with spaces: \")\n",
    "modified_string = remove_spaces(string)\n",
    "print(\"The modified string without spaces: \", modified_string)"
   ]
  },
  {
   "cell_type": "code",
   "execution_count": null,
   "id": "4330eba4-ea1d-45df-ab50-c835aba83321",
   "metadata": {},
   "outputs": [],
   "source": []
  }
 ],
 "metadata": {
  "kernelspec": {
   "display_name": "Python 3 (ipykernel)",
   "language": "python",
   "name": "python3"
  },
  "language_info": {
   "codemirror_mode": {
    "name": "ipython",
    "version": 3
   },
   "file_extension": ".py",
   "mimetype": "text/x-python",
   "name": "python",
   "nbconvert_exporter": "python",
   "pygments_lexer": "ipython3",
   "version": "3.10.8"
  }
 },
 "nbformat": 4,
 "nbformat_minor": 5
}
